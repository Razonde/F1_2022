{
 "cells": [
  {
   "attachments": {},
   "cell_type": "markdown",
   "metadata": {},
   "source": [
    "# Machine Learning Model ANN"
   ]
  },
  {
   "cell_type": "code",
   "execution_count": 1,
   "metadata": {},
   "outputs": [],
   "source": [
    "import pandas as pd\n",
    "import numpy as np\n",
    "import matplotlib.pyplot as plt\n",
    "import seaborn as sns\n",
    "import tensorflow as tf\n",
    "import warnings\n",
    "\n",
    "from sklearn.preprocessing import StandardScaler,LabelEncoder\n",
    "from sklearn.model_selection import train_test_split\n",
    "from sklearn.metrics import confusion_matrix\n",
    "from keras import optimizers\n",
    "from keras.models import Sequential\n",
    "from keras.layers import Dense\n",
    "\n",
    "warnings.filterwarnings(\"ignore\")\n",
    "sns.set(rc={'figure.figsize':(15,10)})\n",
    "warnings.filterwarnings('ignore')"
   ]
  },
  {
   "cell_type": "code",
   "execution_count": 2,
   "metadata": {},
   "outputs": [],
   "source": [
    "def position_index(x):\n",
    "    if x<4:\n",
    "        return 1\n",
    "    if x>10:\n",
    "        return 3\n",
    "    else :\n",
    "        return 2"
   ]
  },
  {
   "cell_type": "code",
   "execution_count": 3,
   "metadata": {},
   "outputs": [],
   "source": [
    "# Dataset generated in previous phase\n",
    "data = pd.read_csv('./data_f1/cleaned_data.csv')"
   ]
  },
  {
   "cell_type": "code",
   "execution_count": 4,
   "metadata": {},
   "outputs": [],
   "source": [
    "x = data[['GP_name','quali_pos','constructor','driver','position','driver_confidence','constructor_reliability','active_driver','active_constructor']]"
   ]
  },
  {
   "cell_type": "code",
   "execution_count": 5,
   "metadata": {},
   "outputs": [],
   "source": [
    "x = x[x['active_constructor']==1]\n",
    "x = x[x['active_driver']==1]"
   ]
  },
  {
   "cell_type": "code",
   "execution_count": 6,
   "metadata": {},
   "outputs": [],
   "source": [
    "sc  = StandardScaler()\n",
    "le = LabelEncoder()\n",
    "x['GP_name'] = le.fit_transform(x['GP_name'])\n",
    "x['constructor'] = le.fit_transform(x['constructor'])\n",
    "x['driver'] = le.fit_transform(x['driver'])\n",
    "x['GP_name'] = le.fit_transform(x['GP_name'])\n",
    "X = x.drop(['position','active_driver','active_constructor'],1)\n",
    "y = x['position'].apply(lambda x: position_index(x))"
   ]
  },
  {
   "cell_type": "code",
   "execution_count": 7,
   "metadata": {},
   "outputs": [],
   "source": [
    "# Separate the test data into train and test sets\n",
    "X_train, X_test, y_train, y_test = train_test_split(X, y, test_size=0.3, random_state=0)"
   ]
  },
  {
   "cell_type": "code",
   "execution_count": 8,
   "metadata": {},
   "outputs": [],
   "source": [
    "X_train = tf.convert_to_tensor(X_train)\n",
    "X_test = tf.convert_to_tensor(X_test)"
   ]
  },
  {
   "cell_type": "code",
   "execution_count": 9,
   "metadata": {},
   "outputs": [],
   "source": [
    "model = Sequential()\n",
    "model.add(Dense(32, activation='relu', input_shape=(6,)))\n",
    "model.add(Dense(32, activation='relu'))\n",
    "model.add(Dense(32, activation='relu'))\n",
    "model.add(Dense(32, activation='relu'))\n",
    "model.add(Dense(16, activation='relu'))\n",
    "model.add(Dense(4, activation='softmax'))"
   ]
  },
  {
   "cell_type": "code",
   "execution_count": 10,
   "metadata": {},
   "outputs": [
    {
     "name": "stdout",
     "output_type": "stream",
     "text": [
      "Model: \"sequential\"\n",
      "_________________________________________________________________\n",
      " Layer (type)                Output Shape              Param #   \n",
      "=================================================================\n",
      " dense (Dense)               (None, 32)                224       \n",
      "                                                                 \n",
      " dense_1 (Dense)             (None, 32)                1056      \n",
      "                                                                 \n",
      " dense_2 (Dense)             (None, 32)                1056      \n",
      "                                                                 \n",
      " dense_3 (Dense)             (None, 32)                1056      \n",
      "                                                                 \n",
      " dense_4 (Dense)             (None, 16)                528       \n",
      "                                                                 \n",
      " dense_5 (Dense)             (None, 4)                 68        \n",
      "                                                                 \n",
      "=================================================================\n",
      "Total params: 3,988\n",
      "Trainable params: 3,988\n",
      "Non-trainable params: 0\n",
      "_________________________________________________________________\n"
     ]
    }
   ],
   "source": [
    "model.summary()"
   ]
  },
  {
   "cell_type": "code",
   "execution_count": 11,
   "metadata": {},
   "outputs": [],
   "source": [
    "opt = optimizers.Adamax(learning_rate=0.01)\n",
    "model.compile(optimizer=opt, \n",
    "              loss='sparse_categorical_crossentropy', \n",
    "              metrics=['accuracy'])"
   ]
  },
  {
   "cell_type": "code",
   "execution_count": 12,
   "metadata": {},
   "outputs": [],
   "source": [
    "callback_list = [\n",
    "       tf.keras.callbacks.EarlyStopping(\n",
    "            monitor='val_loss', \n",
    "            patience=7,\n",
    "            restore_best_weights=True,\n",
    "            verbose=1\n",
    "       )         \n",
    "]"
   ]
  },
  {
   "cell_type": "code",
   "execution_count": 13,
   "metadata": {},
   "outputs": [
    {
     "name": "stdout",
     "output_type": "stream",
     "text": [
      "Epoch 1/50\n",
      "48/48 [==============================] - 1s 8ms/step - loss: 0.7375 - accuracy: 0.6554 - val_loss: 0.5665 - val_accuracy: 0.7676\n",
      "Epoch 2/50\n",
      "48/48 [==============================] - 0s 4ms/step - loss: 0.5409 - accuracy: 0.8035 - val_loss: 0.4880 - val_accuracy: 0.8225\n",
      "Epoch 3/50\n",
      "48/48 [==============================] - 0s 3ms/step - loss: 0.5033 - accuracy: 0.8107 - val_loss: 0.4486 - val_accuracy: 0.8460\n",
      "Epoch 4/50\n",
      "48/48 [==============================] - 0s 4ms/step - loss: 0.4313 - accuracy: 0.8518 - val_loss: 0.5212 - val_accuracy: 0.7937\n",
      "Epoch 5/50\n",
      "48/48 [==============================] - 0s 4ms/step - loss: 0.4223 - accuracy: 0.8466 - val_loss: 0.4130 - val_accuracy: 0.8668\n",
      "Epoch 6/50\n",
      "48/48 [==============================] - 0s 4ms/step - loss: 0.3801 - accuracy: 0.8616 - val_loss: 0.4136 - val_accuracy: 0.8433\n",
      "Epoch 7/50\n",
      "48/48 [==============================] - 0s 3ms/step - loss: 0.3503 - accuracy: 0.8864 - val_loss: 0.3866 - val_accuracy: 0.8590\n",
      "Epoch 8/50\n",
      "48/48 [==============================] - 0s 4ms/step - loss: 0.3277 - accuracy: 0.8956 - val_loss: 0.3227 - val_accuracy: 0.8982\n",
      "Epoch 9/50\n",
      "48/48 [==============================] - 0s 3ms/step - loss: 0.3047 - accuracy: 0.9027 - val_loss: 0.3828 - val_accuracy: 0.8851\n",
      "Epoch 10/50\n",
      "48/48 [==============================] - 0s 3ms/step - loss: 0.3062 - accuracy: 0.9054 - val_loss: 0.3791 - val_accuracy: 0.8721\n",
      "Epoch 11/50\n",
      "48/48 [==============================] - 0s 3ms/step - loss: 0.3015 - accuracy: 0.9027 - val_loss: 0.3485 - val_accuracy: 0.8799\n",
      "Epoch 12/50\n",
      "48/48 [==============================] - 0s 3ms/step - loss: 0.3143 - accuracy: 0.8851 - val_loss: 0.5238 - val_accuracy: 0.8120\n",
      "Epoch 13/50\n",
      "48/48 [==============================] - 0s 4ms/step - loss: 0.3053 - accuracy: 0.8982 - val_loss: 0.3410 - val_accuracy: 0.8903\n",
      "Epoch 14/50\n",
      "48/48 [==============================] - 0s 3ms/step - loss: 0.2701 - accuracy: 0.9191 - val_loss: 0.3119 - val_accuracy: 0.9138\n",
      "Epoch 15/50\n",
      "48/48 [==============================] - 0s 3ms/step - loss: 0.3059 - accuracy: 0.9067 - val_loss: 0.4704 - val_accuracy: 0.8538\n",
      "Epoch 16/50\n",
      "48/48 [==============================] - 0s 3ms/step - loss: 0.2742 - accuracy: 0.9112 - val_loss: 0.3096 - val_accuracy: 0.9217\n",
      "Epoch 17/50\n",
      "48/48 [==============================] - 0s 3ms/step - loss: 0.2724 - accuracy: 0.9132 - val_loss: 0.3317 - val_accuracy: 0.9112\n",
      "Epoch 18/50\n",
      "48/48 [==============================] - 0s 3ms/step - loss: 0.2678 - accuracy: 0.9236 - val_loss: 0.3577 - val_accuracy: 0.8982\n",
      "Epoch 19/50\n",
      "48/48 [==============================] - 0s 3ms/step - loss: 0.2657 - accuracy: 0.9158 - val_loss: 0.3512 - val_accuracy: 0.8903\n",
      "Epoch 20/50\n",
      "48/48 [==============================] - 0s 3ms/step - loss: 0.2604 - accuracy: 0.9243 - val_loss: 0.3218 - val_accuracy: 0.9060\n",
      "Epoch 21/50\n",
      "48/48 [==============================] - 0s 3ms/step - loss: 0.3062 - accuracy: 0.8923 - val_loss: 0.3364 - val_accuracy: 0.8903\n",
      "Epoch 22/50\n",
      "48/48 [==============================] - 0s 3ms/step - loss: 0.2556 - accuracy: 0.9249 - val_loss: 0.3421 - val_accuracy: 0.8877\n",
      "Epoch 23/50\n",
      "48/48 [==============================] - 0s 3ms/step - loss: 0.2452 - accuracy: 0.9230 - val_loss: 0.3030 - val_accuracy: 0.9217\n",
      "Epoch 24/50\n",
      "48/48 [==============================] - 0s 3ms/step - loss: 0.2500 - accuracy: 0.9210 - val_loss: 0.2999 - val_accuracy: 0.9086\n",
      "Epoch 25/50\n",
      "48/48 [==============================] - 0s 3ms/step - loss: 0.2405 - accuracy: 0.9249 - val_loss: 0.3254 - val_accuracy: 0.8956\n",
      "Epoch 26/50\n",
      "48/48 [==============================] - 0s 3ms/step - loss: 0.2629 - accuracy: 0.9125 - val_loss: 0.4552 - val_accuracy: 0.8825\n",
      "Epoch 27/50\n",
      "48/48 [==============================] - 0s 3ms/step - loss: 0.2748 - accuracy: 0.9067 - val_loss: 0.3390 - val_accuracy: 0.9008\n",
      "Epoch 28/50\n",
      "48/48 [==============================] - 0s 3ms/step - loss: 0.2319 - accuracy: 0.9295 - val_loss: 0.3351 - val_accuracy: 0.9086\n",
      "Epoch 29/50\n",
      "48/48 [==============================] - 0s 3ms/step - loss: 0.2506 - accuracy: 0.9243 - val_loss: 0.3443 - val_accuracy: 0.9008\n",
      "Epoch 30/50\n",
      "48/48 [==============================] - 0s 3ms/step - loss: 0.2365 - accuracy: 0.9275 - val_loss: 0.2974 - val_accuracy: 0.9164\n",
      "Epoch 31/50\n",
      "48/48 [==============================] - 0s 3ms/step - loss: 0.2351 - accuracy: 0.9275 - val_loss: 0.3339 - val_accuracy: 0.8825\n",
      "Epoch 32/50\n",
      "48/48 [==============================] - 0s 3ms/step - loss: 0.2365 - accuracy: 0.9249 - val_loss: 0.3939 - val_accuracy: 0.9034\n",
      "Epoch 33/50\n",
      "48/48 [==============================] - 0s 3ms/step - loss: 0.2301 - accuracy: 0.9275 - val_loss: 0.3539 - val_accuracy: 0.8877\n",
      "Epoch 34/50\n",
      "48/48 [==============================] - 0s 3ms/step - loss: 0.2457 - accuracy: 0.9204 - val_loss: 0.3676 - val_accuracy: 0.8799\n",
      "Epoch 35/50\n",
      "48/48 [==============================] - 0s 3ms/step - loss: 0.2355 - accuracy: 0.9197 - val_loss: 0.3462 - val_accuracy: 0.8956\n",
      "Epoch 36/50\n",
      "48/48 [==============================] - 0s 3ms/step - loss: 0.2316 - accuracy: 0.9302 - val_loss: 0.3285 - val_accuracy: 0.9060\n",
      "Epoch 37/50\n",
      "34/48 [====================>.........] - ETA: 0s - loss: 0.2129 - accuracy: 0.9412Restoring model weights from the end of the best epoch: 30.\n",
      "48/48 [==============================] - 0s 3ms/step - loss: 0.2136 - accuracy: 0.9419 - val_loss: 0.5143 - val_accuracy: 0.8877\n",
      "Epoch 37: early stopping\n"
     ]
    }
   ],
   "source": [
    "res = model.fit(x=X_train, \n",
    "                y=y_train, \n",
    "                epochs=50,\n",
    "                validation_split=0.2,\n",
    "                callbacks=callback_list)"
   ]
  },
  {
   "cell_type": "code",
   "execution_count": 14,
   "metadata": {},
   "outputs": [
    {
     "data": {
      "text/html": [
       "<div>\n",
       "<style scoped>\n",
       "    .dataframe tbody tr th:only-of-type {\n",
       "        vertical-align: middle;\n",
       "    }\n",
       "\n",
       "    .dataframe tbody tr th {\n",
       "        vertical-align: top;\n",
       "    }\n",
       "\n",
       "    .dataframe thead th {\n",
       "        text-align: right;\n",
       "    }\n",
       "</style>\n",
       "<table border=\"1\" class=\"dataframe\">\n",
       "  <thead>\n",
       "    <tr style=\"text-align: right;\">\n",
       "      <th></th>\n",
       "      <th>loss</th>\n",
       "      <th>accuracy</th>\n",
       "      <th>val_loss</th>\n",
       "      <th>val_accuracy</th>\n",
       "    </tr>\n",
       "  </thead>\n",
       "  <tbody>\n",
       "    <tr>\n",
       "      <th>0</th>\n",
       "      <td>0.737487</td>\n",
       "      <td>0.655352</td>\n",
       "      <td>0.566469</td>\n",
       "      <td>0.767624</td>\n",
       "    </tr>\n",
       "    <tr>\n",
       "      <th>1</th>\n",
       "      <td>0.540859</td>\n",
       "      <td>0.803525</td>\n",
       "      <td>0.487995</td>\n",
       "      <td>0.822454</td>\n",
       "    </tr>\n",
       "    <tr>\n",
       "      <th>2</th>\n",
       "      <td>0.503309</td>\n",
       "      <td>0.810705</td>\n",
       "      <td>0.448551</td>\n",
       "      <td>0.845953</td>\n",
       "    </tr>\n",
       "    <tr>\n",
       "      <th>3</th>\n",
       "      <td>0.431325</td>\n",
       "      <td>0.851828</td>\n",
       "      <td>0.521197</td>\n",
       "      <td>0.793734</td>\n",
       "    </tr>\n",
       "    <tr>\n",
       "      <th>4</th>\n",
       "      <td>0.422257</td>\n",
       "      <td>0.846606</td>\n",
       "      <td>0.412969</td>\n",
       "      <td>0.866841</td>\n",
       "    </tr>\n",
       "    <tr>\n",
       "      <th>5</th>\n",
       "      <td>0.380062</td>\n",
       "      <td>0.861619</td>\n",
       "      <td>0.413610</td>\n",
       "      <td>0.843342</td>\n",
       "    </tr>\n",
       "    <tr>\n",
       "      <th>6</th>\n",
       "      <td>0.350318</td>\n",
       "      <td>0.886423</td>\n",
       "      <td>0.386618</td>\n",
       "      <td>0.859008</td>\n",
       "    </tr>\n",
       "    <tr>\n",
       "      <th>7</th>\n",
       "      <td>0.327651</td>\n",
       "      <td>0.895561</td>\n",
       "      <td>0.322716</td>\n",
       "      <td>0.898172</td>\n",
       "    </tr>\n",
       "    <tr>\n",
       "      <th>8</th>\n",
       "      <td>0.304652</td>\n",
       "      <td>0.902741</td>\n",
       "      <td>0.382800</td>\n",
       "      <td>0.885117</td>\n",
       "    </tr>\n",
       "    <tr>\n",
       "      <th>9</th>\n",
       "      <td>0.306203</td>\n",
       "      <td>0.905352</td>\n",
       "      <td>0.379116</td>\n",
       "      <td>0.872063</td>\n",
       "    </tr>\n",
       "    <tr>\n",
       "      <th>10</th>\n",
       "      <td>0.301510</td>\n",
       "      <td>0.902741</td>\n",
       "      <td>0.348542</td>\n",
       "      <td>0.879896</td>\n",
       "    </tr>\n",
       "    <tr>\n",
       "      <th>11</th>\n",
       "      <td>0.314310</td>\n",
       "      <td>0.885117</td>\n",
       "      <td>0.523806</td>\n",
       "      <td>0.812010</td>\n",
       "    </tr>\n",
       "    <tr>\n",
       "      <th>12</th>\n",
       "      <td>0.305268</td>\n",
       "      <td>0.898172</td>\n",
       "      <td>0.340969</td>\n",
       "      <td>0.890339</td>\n",
       "    </tr>\n",
       "    <tr>\n",
       "      <th>13</th>\n",
       "      <td>0.270052</td>\n",
       "      <td>0.919060</td>\n",
       "      <td>0.311918</td>\n",
       "      <td>0.913838</td>\n",
       "    </tr>\n",
       "    <tr>\n",
       "      <th>14</th>\n",
       "      <td>0.305917</td>\n",
       "      <td>0.906658</td>\n",
       "      <td>0.470363</td>\n",
       "      <td>0.853786</td>\n",
       "    </tr>\n",
       "    <tr>\n",
       "      <th>15</th>\n",
       "      <td>0.274188</td>\n",
       "      <td>0.911227</td>\n",
       "      <td>0.309605</td>\n",
       "      <td>0.921671</td>\n",
       "    </tr>\n",
       "    <tr>\n",
       "      <th>16</th>\n",
       "      <td>0.272412</td>\n",
       "      <td>0.913185</td>\n",
       "      <td>0.331699</td>\n",
       "      <td>0.911227</td>\n",
       "    </tr>\n",
       "    <tr>\n",
       "      <th>17</th>\n",
       "      <td>0.267849</td>\n",
       "      <td>0.923629</td>\n",
       "      <td>0.357694</td>\n",
       "      <td>0.898172</td>\n",
       "    </tr>\n",
       "    <tr>\n",
       "      <th>18</th>\n",
       "      <td>0.265685</td>\n",
       "      <td>0.915796</td>\n",
       "      <td>0.351162</td>\n",
       "      <td>0.890339</td>\n",
       "    </tr>\n",
       "    <tr>\n",
       "      <th>19</th>\n",
       "      <td>0.260357</td>\n",
       "      <td>0.924282</td>\n",
       "      <td>0.321832</td>\n",
       "      <td>0.906005</td>\n",
       "    </tr>\n",
       "    <tr>\n",
       "      <th>20</th>\n",
       "      <td>0.306173</td>\n",
       "      <td>0.892298</td>\n",
       "      <td>0.336420</td>\n",
       "      <td>0.890339</td>\n",
       "    </tr>\n",
       "    <tr>\n",
       "      <th>21</th>\n",
       "      <td>0.255607</td>\n",
       "      <td>0.924935</td>\n",
       "      <td>0.342118</td>\n",
       "      <td>0.887728</td>\n",
       "    </tr>\n",
       "    <tr>\n",
       "      <th>22</th>\n",
       "      <td>0.245214</td>\n",
       "      <td>0.922976</td>\n",
       "      <td>0.302998</td>\n",
       "      <td>0.921671</td>\n",
       "    </tr>\n",
       "    <tr>\n",
       "      <th>23</th>\n",
       "      <td>0.250030</td>\n",
       "      <td>0.921018</td>\n",
       "      <td>0.299881</td>\n",
       "      <td>0.908616</td>\n",
       "    </tr>\n",
       "    <tr>\n",
       "      <th>24</th>\n",
       "      <td>0.240532</td>\n",
       "      <td>0.924935</td>\n",
       "      <td>0.325388</td>\n",
       "      <td>0.895561</td>\n",
       "    </tr>\n",
       "    <tr>\n",
       "      <th>25</th>\n",
       "      <td>0.262915</td>\n",
       "      <td>0.912533</td>\n",
       "      <td>0.455212</td>\n",
       "      <td>0.882507</td>\n",
       "    </tr>\n",
       "    <tr>\n",
       "      <th>26</th>\n",
       "      <td>0.274840</td>\n",
       "      <td>0.906658</td>\n",
       "      <td>0.339019</td>\n",
       "      <td>0.900783</td>\n",
       "    </tr>\n",
       "    <tr>\n",
       "      <th>27</th>\n",
       "      <td>0.231937</td>\n",
       "      <td>0.929504</td>\n",
       "      <td>0.335125</td>\n",
       "      <td>0.908616</td>\n",
       "    </tr>\n",
       "    <tr>\n",
       "      <th>28</th>\n",
       "      <td>0.250561</td>\n",
       "      <td>0.924282</td>\n",
       "      <td>0.344332</td>\n",
       "      <td>0.900783</td>\n",
       "    </tr>\n",
       "    <tr>\n",
       "      <th>29</th>\n",
       "      <td>0.236486</td>\n",
       "      <td>0.927546</td>\n",
       "      <td>0.297375</td>\n",
       "      <td>0.916449</td>\n",
       "    </tr>\n",
       "    <tr>\n",
       "      <th>30</th>\n",
       "      <td>0.235083</td>\n",
       "      <td>0.927546</td>\n",
       "      <td>0.333945</td>\n",
       "      <td>0.882507</td>\n",
       "    </tr>\n",
       "    <tr>\n",
       "      <th>31</th>\n",
       "      <td>0.236481</td>\n",
       "      <td>0.924935</td>\n",
       "      <td>0.393893</td>\n",
       "      <td>0.903394</td>\n",
       "    </tr>\n",
       "    <tr>\n",
       "      <th>32</th>\n",
       "      <td>0.230146</td>\n",
       "      <td>0.927546</td>\n",
       "      <td>0.353928</td>\n",
       "      <td>0.887728</td>\n",
       "    </tr>\n",
       "    <tr>\n",
       "      <th>33</th>\n",
       "      <td>0.245659</td>\n",
       "      <td>0.920366</td>\n",
       "      <td>0.367630</td>\n",
       "      <td>0.879896</td>\n",
       "    </tr>\n",
       "    <tr>\n",
       "      <th>34</th>\n",
       "      <td>0.235486</td>\n",
       "      <td>0.919713</td>\n",
       "      <td>0.346201</td>\n",
       "      <td>0.895561</td>\n",
       "    </tr>\n",
       "    <tr>\n",
       "      <th>35</th>\n",
       "      <td>0.231592</td>\n",
       "      <td>0.930157</td>\n",
       "      <td>0.328543</td>\n",
       "      <td>0.906005</td>\n",
       "    </tr>\n",
       "    <tr>\n",
       "      <th>36</th>\n",
       "      <td>0.213552</td>\n",
       "      <td>0.941906</td>\n",
       "      <td>0.514290</td>\n",
       "      <td>0.887728</td>\n",
       "    </tr>\n",
       "  </tbody>\n",
       "</table>\n",
       "</div>"
      ],
      "text/plain": [
       "        loss  accuracy  val_loss  val_accuracy\n",
       "0   0.737487  0.655352  0.566469      0.767624\n",
       "1   0.540859  0.803525  0.487995      0.822454\n",
       "2   0.503309  0.810705  0.448551      0.845953\n",
       "3   0.431325  0.851828  0.521197      0.793734\n",
       "4   0.422257  0.846606  0.412969      0.866841\n",
       "5   0.380062  0.861619  0.413610      0.843342\n",
       "6   0.350318  0.886423  0.386618      0.859008\n",
       "7   0.327651  0.895561  0.322716      0.898172\n",
       "8   0.304652  0.902741  0.382800      0.885117\n",
       "9   0.306203  0.905352  0.379116      0.872063\n",
       "10  0.301510  0.902741  0.348542      0.879896\n",
       "11  0.314310  0.885117  0.523806      0.812010\n",
       "12  0.305268  0.898172  0.340969      0.890339\n",
       "13  0.270052  0.919060  0.311918      0.913838\n",
       "14  0.305917  0.906658  0.470363      0.853786\n",
       "15  0.274188  0.911227  0.309605      0.921671\n",
       "16  0.272412  0.913185  0.331699      0.911227\n",
       "17  0.267849  0.923629  0.357694      0.898172\n",
       "18  0.265685  0.915796  0.351162      0.890339\n",
       "19  0.260357  0.924282  0.321832      0.906005\n",
       "20  0.306173  0.892298  0.336420      0.890339\n",
       "21  0.255607  0.924935  0.342118      0.887728\n",
       "22  0.245214  0.922976  0.302998      0.921671\n",
       "23  0.250030  0.921018  0.299881      0.908616\n",
       "24  0.240532  0.924935  0.325388      0.895561\n",
       "25  0.262915  0.912533  0.455212      0.882507\n",
       "26  0.274840  0.906658  0.339019      0.900783\n",
       "27  0.231937  0.929504  0.335125      0.908616\n",
       "28  0.250561  0.924282  0.344332      0.900783\n",
       "29  0.236486  0.927546  0.297375      0.916449\n",
       "30  0.235083  0.927546  0.333945      0.882507\n",
       "31  0.236481  0.924935  0.393893      0.903394\n",
       "32  0.230146  0.927546  0.353928      0.887728\n",
       "33  0.245659  0.920366  0.367630      0.879896\n",
       "34  0.235486  0.919713  0.346201      0.895561\n",
       "35  0.231592  0.930157  0.328543      0.906005\n",
       "36  0.213552  0.941906  0.514290      0.887728"
      ]
     },
     "execution_count": 14,
     "metadata": {},
     "output_type": "execute_result"
    }
   ],
   "source": [
    "df = pd.DataFrame(res.history)\n",
    "df"
   ]
  },
  {
   "cell_type": "code",
   "execution_count": 15,
   "metadata": {},
   "outputs": [
    {
     "data": {
      "image/png": "[encoded data removed]",
      "text/plain": [
       "<Figure size 432x288 with 1 Axes>"
      ]
     },
     "metadata": {
      "needs_background": "light"
     },
     "output_type": "display_data"
    }
   ],
   "source": [
    "plt.plot(res.epoch, df.loss, label='loss')\n",
    "plt.plot(res.epoch, df.val_loss, label='val_loss')\n",
    "plt.title('Loss')\n",
    "plt.xlabel('Epoch')\n",
    "plt.ylabel('Loss')\n",
    "plt.legend()\n",
    "plt.show()"
   ]
  },
  {
   "cell_type": "code",
   "execution_count": 16,
   "metadata": {},
   "outputs": [
    {
     "data": {
      "image/png": "[encoded data removed]",
      "text/plain": [
       "<Figure size 432x288 with 1 Axes>"
      ]
     },
     "metadata": {
      "needs_background": "light"
     },
     "output_type": "display_data"
    }
   ],
   "source": [
    "plt.plot(res.epoch, df.accuracy, label='accuracy')\n",
    "plt.plot(res.epoch, df.val_accuracy, label='val_accuracy')\n",
    "plt.title('Accuracy')\n",
    "plt.xlabel('Epoch')\n",
    "plt.ylabel('Accuracy')\n",
    "plt.legend()\n",
    "plt.show()"
   ]
  },
  {
   "cell_type": "code",
   "execution_count": 17,
   "metadata": {},
   "outputs": [
    {
     "name": "stdout",
     "output_type": "stream",
     "text": [
      "26/26 [==============================] - 0s 2ms/step\n",
      "Misclassified examples: 68\n"
     ]
    }
   ],
   "source": [
    "pred = model.predict(X_test)\n",
    "pred = np.argmax(pred,1)\n",
    "print('Misclassified examples: %d' % (y_test != pred).sum())"
   ]
  },
  {
   "cell_type": "code",
   "execution_count": 18,
   "metadata": {},
   "outputs": [
    {
     "name": "stdout",
     "output_type": "stream",
     "text": [
      "26/26 [==============================] - 0s 1ms/step - loss: 0.2835 - accuracy: 0.9173\n",
      "Loss: 0.2835499346256256\n",
      "Accuracy 0.9172749519348145\n"
     ]
    }
   ],
   "source": [
    "# Evaluate model\n",
    "(test_loss, test_accuracy) = model.evaluate(x=X_test,y=y_test)\n",
    "print(\"Loss:\", test_loss)\n",
    "print('Accuracy', test_accuracy)"
   ]
  },
  {
   "cell_type": "code",
   "execution_count": 19,
   "metadata": {},
   "outputs": [
    {
     "data": {
      "image/png": "[encoded data removed]",
      "text/plain": [
       "<Figure size 432x288 with 2 Axes>"
      ]
     },
     "metadata": {
      "needs_background": "light"
     },
     "output_type": "display_data"
    }
   ],
   "source": [
    "cm = confusion_matrix(y_test,pred)\n",
    "\n",
    "sns.heatmap(cm, annot=True, fmt='g', xticklabels=['1','2','3'], yticklabels=['1','2','3'])\n",
    "\n",
    "plt.ylabel('Prediction',fontsize=13)\n",
    "plt.xlabel('Actual',fontsize=13)\n",
    "plt.title('Confusion Matrix',fontsize=17)\n",
    "plt.show()"
   ]
  },
  {
   "cell_type": "code",
   "execution_count": 20,
   "metadata": {},
   "outputs": [],
   "source": [
    "# save model\n",
    "path='./web/model/model.h5'\n",
    "model.save(path)"
   ]
  }
 ],
 "metadata": {
  "kernelspec": {
   "display_name": "Python 3",
   "language": "python",
   "name": "python3"
  },
  "language_info": {
   "codemirror_mode": {
    "name": "ipython",
    "version": 3
   },
   "file_extension": ".py",
   "mimetype": "text/x-python",
   "name": "python",
   "nbconvert_exporter": "python",
   "pygments_lexer": "ipython3",
   "version": "3.10.0"
  },
  "orig_nbformat": 4
 },
 "nbformat": 4,
 "nbformat_minor": 2
}
