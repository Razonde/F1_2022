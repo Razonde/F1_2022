{
 "cells": [
  {
   "attachments": {},
   "cell_type": "markdown",
   "metadata": {},
   "source": [
    "# Machine Learning Model ANN"
   ]
  },
  {
   "cell_type": "code",
   "execution_count": 74,
   "metadata": {},
   "outputs": [],
   "source": [
    "import pandas as pd\n",
    "import numpy as np\n",
    "import matplotlib.pyplot as plt\n",
    "import seaborn as sns\n",
    "import tensorflow as tf\n",
    "import warnings\n",
    "\n",
    "from sklearn.preprocessing import StandardScaler,LabelEncoder\n",
    "from sklearn.model_selection import train_test_split\n",
    "from sklearn.metrics import confusion_matrix\n",
    "from keras import optimizers\n",
    "from keras.models import Sequential\n",
    "from keras.layers import Dense\n",
    "\n",
    "warnings.filterwarnings(\"ignore\")\n",
    "sns.set(rc={'figure.figsize':(15,10)})\n",
    "warnings.filterwarnings('ignore')"
   ]
  },
  {
   "cell_type": "code",
   "execution_count": 75,
   "metadata": {},
   "outputs": [],
   "source": [
    "def position_index(x):\n",
    "    if x<4:\n",
    "        return 1\n",
    "    if x>10:\n",
    "        return 3\n",
    "    else :\n",
    "        return 2"
   ]
  },
  {
   "attachments": {},
   "cell_type": "markdown",
   "metadata": {},
   "source": [
    "### Clean Historic and 2022 Data"
   ]
  },
  {
   "cell_type": "code",
   "execution_count": 76,
   "metadata": {},
   "outputs": [],
   "source": [
    "results = pd.read_csv(r'./data_f1/results.csv')\n",
    "races = pd.read_csv(r'./data_f1/races.csv')\n",
    "quali = pd.read_csv(r'./data_f1/qualifying.csv')\n",
    "drivers = pd.read_csv(r'./data_f1/drivers.csv')\n",
    "constructors = pd.read_csv(r'./data_f1/constructors.csv')\n",
    "circuit = pd.read_csv(r'./data_f1/circuits.csv')"
   ]
  },
  {
   "cell_type": "code",
   "execution_count": 77,
   "metadata": {},
   "outputs": [],
   "source": [
    "df1 = pd.merge(races,results,how='inner',on=['raceId'])\n",
    "df2 = pd.merge(df1,quali,how='inner',on=['raceId','driverId','constructorId'])\n",
    "df3 = pd.merge(df2,drivers,how='inner',on=['driverId'])\n",
    "df4 = pd.merge(df3,constructors,how='inner',on=['constructorId'])\n",
    "df5 = pd.merge(df4,circuit,how='inner',on=['circuitId'], suffixes=('_a', '_b'))\n",
    "data = df5"
   ]
  },
  {
   "cell_type": "code",
   "execution_count": 78,
   "metadata": {},
   "outputs": [],
   "source": [
    "#considering data points from 2010\n",
    "data = data[data['year']>=2010]"
   ]
  },
  {
   "cell_type": "code",
   "execution_count": 79,
   "metadata": {},
   "outputs": [],
   "source": [
    "#rename the columns\n",
    "data.rename(columns={'name':'GP_name','position_y':'position','grid':'quali_pos','name_y':'constructor','nationality_x':'driver_nationality','nationality_y':'constructor_nationality'},inplace=True)\n",
    "data['driver'] = data['forename']+' '+data['surname']\n",
    "data['date'] = pd.to_datetime(data['date'])\n",
    "data['dob'] = pd.to_datetime(data['dob'])"
   ]
  },
  {
   "cell_type": "code",
   "execution_count": 80,
   "metadata": {},
   "outputs": [],
   "source": [
    "#creating a driver age parameter\n",
    "data['age_at_gp_in_days'] = abs(data['dob']-data['date'])\n",
    "data['age_at_gp_in_days'] = data['age_at_gp_in_days'].apply(lambda x: str(x).split(' ')[0])"
   ]
  },
  {
   "cell_type": "code",
   "execution_count": 81,
   "metadata": {},
   "outputs": [],
   "source": [
    "#Some of the constructors changed their name over the year so replacing old names with current name\n",
    "data['constructor'] = data['constructor'].apply(lambda x: 'Aston Martin' if x=='Force India' else x)\n",
    "data['constructor'] = data['constructor'].apply(lambda x: 'Aston Martin' if x=='Racing Point' else x)\n",
    "data['constructor'] = data['constructor'].apply(lambda x: 'Alfa Romeo' if x=='Sauber' else x)\n",
    "data['constructor'] = data['constructor'].apply(lambda x: 'Alpine F1' if x=='Lotus F1' else x)\n",
    "data['constructor'] = data['constructor'].apply(lambda x: 'Alpine F1' if x=='Renault' else x)\n",
    "# Correction for 2021\n",
    "data['constructor'] = data['constructor'].apply(lambda x: 'Alpine F1' if x=='Alpine F1 Team' else x)\n",
    "data['constructor'] = data['constructor'].apply(lambda x: 'AlphaTauri' if x=='Toro Rosso' else x)"
   ]
  },
  {
   "cell_type": "code",
   "execution_count": 82,
   "metadata": {},
   "outputs": [],
   "source": [
    "data['driver_nationality'] = data['driver_nationality'].apply(lambda x: str(x)[:3])\n",
    "data['constructor_nationality'] = data['constructor_nationality'].apply(lambda x: str(x)[:3])\n",
    "data['country'] = data['country'].apply(lambda x: 'Bri' if x=='UK' else x)\n",
    "data['country'] = data['country'].apply(lambda x: 'Ame' if x=='USA' else x)\n",
    "data['country'] = data['country'].apply(lambda x: 'Fre' if x=='Fra' else x)\n",
    "data['country'] = data['country'].apply(lambda x: str(x)[:3])\n",
    "data['driver_home'] = data['driver_nationality'] == data['country']\n",
    "data['constructor_home'] = data['constructor_nationality'] == data['country']\n",
    "data['driver_home'] = data['driver_home'].apply(lambda x: int(x))\n",
    "data['constructor_home'] = data['constructor_home'].apply(lambda x: int(x))"
   ]
  },
  {
   "cell_type": "code",
   "execution_count": 83,
   "metadata": {},
   "outputs": [],
   "source": [
    "#reasons for DNF(did not finish)\n",
    "data['driver_dnf'] = data['statusId'].apply(lambda x: 1 if x in [3,4,20,29,31,41,68,73,81,97,82,104,107,130,137] else 0)\n",
    "data['constructor_dnf'] = data['statusId'].apply(lambda x: 1 if x not in [3,4,20,29,31,41,68,73,81,97,82,104,107,130,137,1] else 0)\n",
    "data.drop(['forename','surname'],axis=1,inplace=True)"
   ]
  },
  {
   "cell_type": "code",
   "execution_count": 84,
   "metadata": {},
   "outputs": [],
   "source": [
    "historicData = data.drop(data[data.year == 2022].index)\n",
    "data_2022 = data[data.year == 2022]"
   ]
  },
  {
   "cell_type": "code",
   "execution_count": 85,
   "metadata": {},
   "outputs": [],
   "source": [
    "historicData.to_csv('./data_f1/ANNData/data_filtered.csv', index = False)\n",
    "data_2022.to_csv('./data_f1/ANNData/data_filtered_2022.csv', index = False)"
   ]
  },
  {
   "attachments": {},
   "cell_type": "markdown",
   "metadata": {},
   "source": [
    "### Prepare Historic Data"
   ]
  },
  {
   "cell_type": "code",
   "execution_count": 86,
   "metadata": {},
   "outputs": [],
   "source": [
    "data = pd.read_csv('./data_f1/ANNData/data_filtered.csv')"
   ]
  },
  {
   "cell_type": "code",
   "execution_count": 87,
   "metadata": {},
   "outputs": [],
   "source": [
    "dnf_by_driver = data.groupby('driver').sum()['driver_dnf']\n",
    "driver_race_entered = data.groupby('driver').count()['driver_dnf']\n",
    "driver_dnf_ratio = (dnf_by_driver/driver_race_entered)\n",
    "driver_confidence = 1-driver_dnf_ratio\n",
    "driver_confidence_dict = dict(zip(driver_confidence.index,driver_confidence))"
   ]
  },
  {
   "cell_type": "code",
   "execution_count": 88,
   "metadata": {},
   "outputs": [
    {
     "data": {
      "text/plain": [
       "{'Adrian Sutil': 0.868421052631579,\n",
       " 'Alexander Albon': 0.972972972972973,\n",
       " 'Alexander Rossi': 1.0,\n",
       " 'André Lotterer': 1.0,\n",
       " 'Antonio Giovinazzi': 0.9180327868852459,\n",
       " 'Brendon Hartley': 0.88,\n",
       " 'Bruno Senna': 0.8260869565217391,\n",
       " 'Carlos Sainz': 0.9142857142857143,\n",
       " 'Charles Leclerc': 0.8765432098765432,\n",
       " 'Charles Pic': 0.9487179487179487,\n",
       " 'Christian Klien': 1.0,\n",
       " 'Daniel Ricciardo': 0.9521531100478469,\n",
       " 'Daniil Kvyat': 0.9196428571428571,\n",
       " 'Esteban Gutiérrez': 0.847457627118644,\n",
       " 'Esteban Ocon': 0.9431818181818182,\n",
       " 'Felipe Massa': 0.9161290322580645,\n",
       " 'Felipe Nasr': 0.925,\n",
       " 'Fernando Alonso': 0.9333333333333333,\n",
       " 'George Russell': 0.9166666666666666,\n",
       " 'Giedo van der Garde': 0.8421052631578947,\n",
       " 'Heikki Kovalainen': 0.95,\n",
       " 'Jack Aitken': 1.0,\n",
       " 'Jaime Alguersuari': 0.9210526315789473,\n",
       " 'Jarno Trulli': 0.972972972972973,\n",
       " 'Jean-Éric Vergne': 0.9137931034482758,\n",
       " 'Jenson Button': 0.9407407407407408,\n",
       " 'Jolyon Palmer': 0.8571428571428572,\n",
       " 'Jules Bianchi': 0.9117647058823529,\n",
       " \"Jérôme d'Ambrosio\": 0.95,\n",
       " 'Kamui Kobayashi': 0.8356164383561644,\n",
       " 'Karun Chandhok': 0.8181818181818181,\n",
       " 'Kevin Magnussen': 0.9327731092436975,\n",
       " 'Kimi Räikkönen': 0.9487179487179487,\n",
       " 'Lance Stroll': 0.88,\n",
       " 'Lando Norris': 0.95,\n",
       " 'Lewis Hamilton': 0.9449152542372882,\n",
       " 'Lucas di Grassi': 0.9473684210526316,\n",
       " 'Marcus Ericsson': 0.875,\n",
       " 'Mark Webber': 0.935064935064935,\n",
       " 'Max Chilton': 0.9428571428571428,\n",
       " 'Max Verstappen': 0.8936170212765957,\n",
       " 'Michael Schumacher': 0.8771929824561404,\n",
       " 'Mick Schumacher': 0.9047619047619048,\n",
       " 'Narain Karthikeyan': 0.8214285714285714,\n",
       " 'Nicholas Latifi': 0.8205128205128205,\n",
       " 'Nick Heidfeld': 0.8,\n",
       " 'Nico Hülkenberg': 0.9005524861878453,\n",
       " 'Nico Rosberg': 0.9485294117647058,\n",
       " 'Nikita Mazepin': 0.8636363636363636,\n",
       " 'Pascal Wehrlein': 0.8461538461538461,\n",
       " 'Pastor Maldonado': 0.8229166666666666,\n",
       " 'Paul di Resta': 0.864406779661017,\n",
       " 'Pedro de la Rosa': 0.8571428571428572,\n",
       " 'Pierre Gasly': 0.9294117647058824,\n",
       " 'Pietro Fittipaldi': 1.0,\n",
       " 'Rio Haryanto': 0.8333333333333334,\n",
       " 'Robert Kubica': 0.9761904761904762,\n",
       " 'Roberto Merhi': 0.9090909090909091,\n",
       " 'Romain Grosjean': 0.8505747126436781,\n",
       " 'Rubens Barrichello': 0.972972972972973,\n",
       " 'Sakon Yamamoto': 1.0,\n",
       " 'Sebastian Vettel': 0.9491525423728814,\n",
       " 'Sergey Sirotkin': 0.9523809523809523,\n",
       " 'Sergio Pérez': 0.9345794392523364,\n",
       " 'Stoffel Vandoorne': 0.9047619047619048,\n",
       " 'Sébastien Buemi': 0.868421052631579,\n",
       " 'Timo Glock': 0.9122807017543859,\n",
       " 'Valtteri Bottas': 0.9553072625698324,\n",
       " 'Vitaly Petrov': 0.8793103448275862,\n",
       " 'Vitantonio Liuzzi': 0.7837837837837838,\n",
       " 'Will Stevens': 1.0,\n",
       " 'Yuki Tsunoda': 0.9545454545454546}"
      ]
     },
     "execution_count": 88,
     "metadata": {},
     "output_type": "execute_result"
    }
   ],
   "source": [
    "driver_confidence_dict"
   ]
  },
  {
   "cell_type": "code",
   "execution_count": 89,
   "metadata": {},
   "outputs": [],
   "source": [
    "dnf_by_constructor = data.groupby('constructor').sum()['constructor_dnf']\n",
    "constructor_race_entered = data.groupby('constructor').count()['constructor_dnf']\n",
    "constructor_dnf_ratio = (dnf_by_constructor/constructor_race_entered)\n",
    "constructor_reliability = 1-constructor_dnf_ratio\n",
    "constructor_reliability_dict = dict(zip(constructor_reliability.index,constructor_reliability))"
   ]
  },
  {
   "cell_type": "code",
   "execution_count": 90,
   "metadata": {},
   "outputs": [
    {
     "data": {
      "text/plain": [
       "{'Alfa Romeo': 0.41276595744680855,\n",
       " 'AlphaTauri': 0.47558386411889597,\n",
       " 'Alpine F1': 0.5340425531914894,\n",
       " 'Aston Martin': 0.6088794926004228,\n",
       " 'Caterham': 0.1785714285714286,\n",
       " 'Ferrari': 0.8776371308016877,\n",
       " 'HRT': 0.15652173913043477,\n",
       " 'Haas F1 Team': 0.345679012345679,\n",
       " 'Lotus': 0.07894736842105265,\n",
       " 'Manor Marussia': 0.12121212121212122,\n",
       " 'Marussia': 0.16666666666666663,\n",
       " 'McLaren': 0.6093418259023354,\n",
       " 'Mercedes': 0.8879492600422833,\n",
       " 'Red Bull': 0.836864406779661,\n",
       " 'Virgin': 0.09210526315789469,\n",
       " 'Williams': 0.4820295983086681}"
      ]
     },
     "execution_count": 90,
     "metadata": {},
     "output_type": "execute_result"
    }
   ],
   "source": [
    "constructor_reliability_dict"
   ]
  },
  {
   "cell_type": "code",
   "execution_count": 91,
   "metadata": {},
   "outputs": [],
   "source": [
    "data['driver_confidence'] = data['driver'].apply(lambda x:driver_confidence_dict[x])\n",
    "data['constructor_reliability'] = data['constructor'].apply(lambda x:constructor_reliability_dict[x])\n",
    "#removing retired drivers and constructors\n",
    "active_constructors = constructor_reliability_dict.keys()\n",
    "active_drivers = driver_confidence.index\n",
    "data['active_driver'] = data['driver'].apply(lambda x: int(x in active_drivers))\n",
    "data['active_constructor'] = data['constructor'].apply(lambda x: int(x in active_constructors))"
   ]
  },
  {
   "cell_type": "code",
   "execution_count": 92,
   "metadata": {},
   "outputs": [],
   "source": [
    "cleaned_data = data[['position', 'active_constructor', 'active_driver', 'GP_name','constructor','driver', 'quali_pos', 'positionOrder', 'points', 'constructor_reliability', 'year', 'round', 'driver_confidence', 'number_x', 'lat']]\n",
    "cleaned_data = cleaned_data[(cleaned_data['active_driver']==1)&(cleaned_data['active_constructor']==1)]\n",
    "cleaned_data.to_csv('./data_f1/ANNData/cleaned_data.csv',index=False)"
   ]
  },
  {
   "attachments": {},
   "cell_type": "markdown",
   "metadata": {},
   "source": [
    "### Prepare 2022 data"
   ]
  },
  {
   "cell_type": "code",
   "execution_count": 93,
   "metadata": {},
   "outputs": [],
   "source": [
    "data = pd.read_csv('./data_f1/ANNData/data_filtered_2022.csv')"
   ]
  },
  {
   "cell_type": "code",
   "execution_count": 94,
   "metadata": {},
   "outputs": [],
   "source": [
    "dnf_by_driver = data.groupby('driver').sum()['driver_dnf']\n",
    "driver_race_entered = data.groupby('driver').count()['driver_dnf']\n",
    "driver_dnf_ratio = (dnf_by_driver/driver_race_entered)\n",
    "driver_confidence = 1-driver_dnf_ratio\n",
    "driver_confidence_dict = dict(zip(driver_confidence.index,driver_confidence))"
   ]
  },
  {
   "cell_type": "code",
   "execution_count": 95,
   "metadata": {},
   "outputs": [
    {
     "data": {
      "text/plain": [
       "{'Alexander Albon': 0.8571428571428572,\n",
       " 'Carlos Sainz': 0.8181818181818181,\n",
       " 'Charles Leclerc': 0.9545454545454546,\n",
       " 'Daniel Ricciardo': 0.9545454545454546,\n",
       " 'Esteban Ocon': 1.0,\n",
       " 'Fernando Alonso': 0.9545454545454546,\n",
       " 'George Russell': 0.9545454545454546,\n",
       " 'Guanyu Zhou': 0.9090909090909091,\n",
       " 'Kevin Magnussen': 0.9090909090909091,\n",
       " 'Lance Stroll': 0.9545454545454546,\n",
       " 'Lando Norris': 0.9545454545454546,\n",
       " 'Lewis Hamilton': 0.9545454545454546,\n",
       " 'Max Verstappen': 1.0,\n",
       " 'Mick Schumacher': 0.9545454545454546,\n",
       " 'Nicholas Latifi': 0.8181818181818181,\n",
       " 'Nico Hülkenberg': 1.0,\n",
       " 'Nyck de Vries': 1.0,\n",
       " 'Pierre Gasly': 0.9545454545454546,\n",
       " 'Sebastian Vettel': 0.9,\n",
       " 'Sergio Pérez': 0.9545454545454546,\n",
       " 'Valtteri Bottas': 0.9090909090909091,\n",
       " 'Yuki Tsunoda': 0.8636363636363636}"
      ]
     },
     "execution_count": 95,
     "metadata": {},
     "output_type": "execute_result"
    }
   ],
   "source": [
    "driver_confidence_dict"
   ]
  },
  {
   "cell_type": "code",
   "execution_count": 96,
   "metadata": {},
   "outputs": [],
   "source": [
    "dnf_by_constructor = data.groupby('constructor').sum()['constructor_dnf']\n",
    "constructor_race_entered = data.groupby('constructor').count()['constructor_dnf']\n",
    "constructor_dnf_ratio = (dnf_by_constructor/constructor_race_entered)\n",
    "constructor_reliability = 1-constructor_dnf_ratio\n",
    "constructor_reliability_dict = dict(zip(constructor_reliability.index,constructor_reliability))"
   ]
  },
  {
   "cell_type": "code",
   "execution_count": 97,
   "metadata": {},
   "outputs": [
    {
     "data": {
      "text/plain": [
       "{'Alfa Romeo': 0.5681818181818181,\n",
       " 'AlphaTauri': 0.5681818181818181,\n",
       " 'Alpine F1': 0.6818181818181819,\n",
       " 'Aston Martin': 0.7045454545454546,\n",
       " 'Ferrari': 0.9090909090909091,\n",
       " 'Haas F1 Team': 0.4772727272727273,\n",
       " 'McLaren': 0.7727272727272727,\n",
       " 'Mercedes': 0.9318181818181819,\n",
       " 'Red Bull': 0.9090909090909091,\n",
       " 'Williams': 0.5454545454545454}"
      ]
     },
     "execution_count": 97,
     "metadata": {},
     "output_type": "execute_result"
    }
   ],
   "source": [
    "constructor_reliability_dict"
   ]
  },
  {
   "cell_type": "code",
   "execution_count": 98,
   "metadata": {},
   "outputs": [],
   "source": [
    "data['driver_confidence'] = data['driver'].apply(lambda x:driver_confidence_dict[x])\n",
    "data['constructor_reliability'] = data['constructor'].apply(lambda x:constructor_reliability_dict[x])\n",
    "#removing retired drivers and constructors\n",
    "active_constructors = constructor_reliability_dict.keys()\n",
    "active_drivers = driver_confidence.index\n",
    "data['active_driver'] = data['driver'].apply(lambda x: int(x in active_drivers))\n",
    "data['active_constructor'] = data['constructor'].apply(lambda x: int(x in active_constructors))"
   ]
  },
  {
   "cell_type": "code",
   "execution_count": 99,
   "metadata": {},
   "outputs": [],
   "source": [
    "cleaned_data = data[['position', 'active_constructor', 'active_driver', 'GP_name','constructor','driver', 'quali_pos', 'positionOrder', 'points', 'constructor_reliability', 'year', 'round', 'driver_confidence', 'number_x', 'lat']]\n",
    "cleaned_data = cleaned_data[(cleaned_data['active_driver']==1)&(cleaned_data['active_constructor']==1)]\n",
    "cleaned_data.to_csv('./data_f1/ANNData/cleaned_data_2022.csv',index=False)"
   ]
  },
  {
   "attachments": {},
   "cell_type": "markdown",
   "metadata": {},
   "source": [
    "### Prepare Data for Training"
   ]
  },
  {
   "cell_type": "code",
   "execution_count": 100,
   "metadata": {},
   "outputs": [],
   "source": [
    "x_train = pd.read_csv('./data_f1/ANNData/cleaned_data.csv')\n",
    "x_test = pd.read_csv('./data_f1/ANNData/cleaned_data_2022.csv')"
   ]
  },
  {
   "cell_type": "code",
   "execution_count": 101,
   "metadata": {},
   "outputs": [],
   "source": [
    "x_train = x_train[['GP_name','quali_pos','constructor','driver','position','driver_confidence','constructor_reliability','active_driver','active_constructor']]\n",
    "x_test = x_test[['GP_name','quali_pos','constructor','driver','position','driver_confidence','constructor_reliability','active_driver','active_constructor']]"
   ]
  },
  {
   "cell_type": "code",
   "execution_count": 102,
   "metadata": {},
   "outputs": [],
   "source": [
    "x_train = x_train[x_train['active_constructor']==1]\n",
    "x_train = x_train[x_train['active_driver']==1]\n",
    "\n",
    "x_test = x_test[x_test['active_constructor']==1]\n",
    "x_test = x_test[x_test['active_driver']==1]"
   ]
  },
  {
   "cell_type": "code",
   "execution_count": 103,
   "metadata": {},
   "outputs": [],
   "source": [
    "sc  = StandardScaler()\n",
    "le = LabelEncoder()\n",
    "\n",
    "x_train['GP_name'] = le.fit_transform(x_train['GP_name'])\n",
    "x_train['constructor'] = le.fit_transform(x_train['constructor'])\n",
    "x_train['driver'] = le.fit_transform(x_train['driver'])\n",
    "x_train['GP_name'] = le.fit_transform(x_train['GP_name'])\n",
    "X_train = x_train.drop(['position','active_driver','active_constructor'],1)\n",
    "y_train = x_train['position'].apply(lambda x: position_index(x))\n",
    "\n",
    "x_test['GP_name'] = le.fit_transform(x_test['GP_name'])\n",
    "x_test['constructor'] = le.fit_transform(x_test['constructor'])\n",
    "x_test['driver'] = le.fit_transform(x_test['driver'])\n",
    "x_test['GP_name'] = le.fit_transform(x_test['GP_name'])\n",
    "X_test = x_test.drop(['position','active_driver','active_constructor'],1)\n",
    "y_test = x_test['position'].apply(lambda x: position_index(x))"
   ]
  },
  {
   "cell_type": "code",
   "execution_count": 104,
   "metadata": {},
   "outputs": [],
   "source": [
    "X_train = tf.convert_to_tensor(X_train)\n",
    "X_test = tf.convert_to_tensor(X_test)"
   ]
  },
  {
   "attachments": {},
   "cell_type": "markdown",
   "metadata": {},
   "source": [
    "### Create and train model"
   ]
  },
  {
   "cell_type": "code",
   "execution_count": 105,
   "metadata": {},
   "outputs": [],
   "source": [
    "model = Sequential()\n",
    "model.add(Dense(32, activation='relu', input_shape=(6,)))\n",
    "model.add(Dense(32, activation='relu'))\n",
    "model.add(Dense(32, activation='relu'))\n",
    "model.add(Dense(32, activation='relu'))\n",
    "model.add(Dense(16, activation='relu'))\n",
    "model.add(Dense(4, activation='softmax'))"
   ]
  },
  {
   "cell_type": "code",
   "execution_count": 106,
   "metadata": {},
   "outputs": [
    {
     "name": "stdout",
     "output_type": "stream",
     "text": [
      "Model: \"sequential_1\"\n",
      "_________________________________________________________________\n",
      " Layer (type)                Output Shape              Param #   \n",
      "=================================================================\n",
      " dense_6 (Dense)             (None, 32)                224       \n",
      "                                                                 \n",
      " dense_7 (Dense)             (None, 32)                1056      \n",
      "                                                                 \n",
      " dense_8 (Dense)             (None, 32)                1056      \n",
      "                                                                 \n",
      " dense_9 (Dense)             (None, 32)                1056      \n",
      "                                                                 \n",
      " dense_10 (Dense)            (None, 16)                528       \n",
      "                                                                 \n",
      " dense_11 (Dense)            (None, 4)                 68        \n",
      "                                                                 \n",
      "=================================================================\n",
      "Total params: 3,988\n",
      "Trainable params: 3,988\n",
      "Non-trainable params: 0\n",
      "_________________________________________________________________\n"
     ]
    }
   ],
   "source": [
    "model.summary()"
   ]
  },
  {
   "cell_type": "code",
   "execution_count": 107,
   "metadata": {},
   "outputs": [],
   "source": [
    "opt = optimizers.Adamax(learning_rate=0.01)\n",
    "model.compile(optimizer=opt, \n",
    "              loss='sparse_categorical_crossentropy', \n",
    "              metrics=['accuracy'])"
   ]
  },
  {
   "cell_type": "code",
   "execution_count": 108,
   "metadata": {},
   "outputs": [],
   "source": [
    "callback_list = [\n",
    "       tf.keras.callbacks.EarlyStopping(\n",
    "            monitor='val_loss', \n",
    "            patience=7,\n",
    "            restore_best_weights=True,\n",
    "            verbose=1\n",
    "       )         \n",
    "]"
   ]
  },
  {
   "cell_type": "code",
   "execution_count": 109,
   "metadata": {},
   "outputs": [
    {
     "name": "stdout",
     "output_type": "stream",
     "text": [
      "Epoch 1/50\n",
      "127/127 [==============================] - 1s 4ms/step - loss: 0.4804 - accuracy: 0.7972 - val_loss: 0.7310 - val_accuracy: 0.6759\n",
      "Epoch 2/50\n",
      "127/127 [==============================] - 0s 2ms/step - loss: 0.3777 - accuracy: 0.8545 - val_loss: 0.3491 - val_accuracy: 0.8910\n",
      "Epoch 3/50\n",
      "127/127 [==============================] - 0s 2ms/step - loss: 0.3014 - accuracy: 0.8934 - val_loss: 0.3534 - val_accuracy: 0.8702\n",
      "Epoch 4/50\n",
      "127/127 [==============================] - 0s 2ms/step - loss: 0.2914 - accuracy: 0.9003 - val_loss: 0.2834 - val_accuracy: 0.9237\n",
      "Epoch 5/50\n",
      "127/127 [==============================] - 0s 2ms/step - loss: 0.2679 - accuracy: 0.9127 - val_loss: 0.3811 - val_accuracy: 0.8434\n",
      "Epoch 6/50\n",
      "127/127 [==============================] - 0s 2ms/step - loss: 0.2519 - accuracy: 0.9182 - val_loss: 0.3101 - val_accuracy: 0.9068\n",
      "Epoch 7/50\n",
      "127/127 [==============================] - 0s 2ms/step - loss: 0.2885 - accuracy: 0.8984 - val_loss: 0.2926 - val_accuracy: 0.9108\n",
      "Epoch 8/50\n",
      "127/127 [==============================] - 0s 2ms/step - loss: 0.2461 - accuracy: 0.9232 - val_loss: 0.2637 - val_accuracy: 0.9286\n",
      "Epoch 9/50\n",
      "127/127 [==============================] - 0s 2ms/step - loss: 0.2487 - accuracy: 0.9207 - val_loss: 0.2688 - val_accuracy: 0.9277\n",
      "Epoch 10/50\n",
      "127/127 [==============================] - 0s 2ms/step - loss: 0.2483 - accuracy: 0.9187 - val_loss: 0.2717 - val_accuracy: 0.9227\n",
      "Epoch 11/50\n",
      "127/127 [==============================] - 0s 2ms/step - loss: 0.2490 - accuracy: 0.9115 - val_loss: 0.2763 - val_accuracy: 0.9138\n",
      "Epoch 12/50\n",
      "127/127 [==============================] - 0s 2ms/step - loss: 0.2424 - accuracy: 0.9199 - val_loss: 0.2782 - val_accuracy: 0.9118\n",
      "Epoch 13/50\n",
      "127/127 [==============================] - 0s 2ms/step - loss: 0.2202 - accuracy: 0.9318 - val_loss: 0.2465 - val_accuracy: 0.9366\n",
      "Epoch 14/50\n",
      "127/127 [==============================] - 0s 2ms/step - loss: 0.2224 - accuracy: 0.9294 - val_loss: 0.2839 - val_accuracy: 0.9009\n",
      "Epoch 15/50\n",
      "127/127 [==============================] - 0s 2ms/step - loss: 0.2106 - accuracy: 0.9373 - val_loss: 0.2715 - val_accuracy: 0.9197\n",
      "Epoch 16/50\n",
      "127/127 [==============================] - 0s 3ms/step - loss: 0.2225 - accuracy: 0.9279 - val_loss: 0.2345 - val_accuracy: 0.9366\n",
      "Epoch 17/50\n",
      "127/127 [==============================] - 0s 2ms/step - loss: 0.2080 - accuracy: 0.9355 - val_loss: 0.2333 - val_accuracy: 0.9395\n",
      "Epoch 18/50\n",
      "127/127 [==============================] - 0s 3ms/step - loss: 0.1947 - accuracy: 0.9395 - val_loss: 0.2648 - val_accuracy: 0.9108\n",
      "Epoch 19/50\n",
      "127/127 [==============================] - 0s 2ms/step - loss: 0.1937 - accuracy: 0.9435 - val_loss: 0.2418 - val_accuracy: 0.9286\n",
      "Epoch 20/50\n",
      "127/127 [==============================] - 0s 3ms/step - loss: 0.1892 - accuracy: 0.9442 - val_loss: 0.2455 - val_accuracy: 0.9326\n",
      "Epoch 21/50\n",
      "127/127 [==============================] - 0s 2ms/step - loss: 0.2038 - accuracy: 0.9375 - val_loss: 0.2248 - val_accuracy: 0.9356\n",
      "Epoch 22/50\n",
      "127/127 [==============================] - 0s 2ms/step - loss: 0.1849 - accuracy: 0.9393 - val_loss: 0.2493 - val_accuracy: 0.9277\n",
      "Epoch 23/50\n",
      "127/127 [==============================] - 0s 2ms/step - loss: 0.1832 - accuracy: 0.9417 - val_loss: 0.2334 - val_accuracy: 0.9485\n",
      "Epoch 24/50\n",
      "127/127 [==============================] - 0s 2ms/step - loss: 0.1803 - accuracy: 0.9427 - val_loss: 0.2316 - val_accuracy: 0.9395\n",
      "Epoch 25/50\n",
      "127/127 [==============================] - 0s 2ms/step - loss: 0.1887 - accuracy: 0.9403 - val_loss: 0.2404 - val_accuracy: 0.9267\n",
      "Epoch 26/50\n",
      "127/127 [==============================] - 0s 2ms/step - loss: 0.1829 - accuracy: 0.9435 - val_loss: 0.2175 - val_accuracy: 0.9485\n",
      "Epoch 27/50\n",
      "127/127 [==============================] - 0s 2ms/step - loss: 0.1931 - accuracy: 0.9395 - val_loss: 0.2611 - val_accuracy: 0.9207\n",
      "Epoch 28/50\n",
      "127/127 [==============================] - 0s 2ms/step - loss: 0.1886 - accuracy: 0.9398 - val_loss: 0.2252 - val_accuracy: 0.9445\n",
      "Epoch 29/50\n",
      "127/127 [==============================] - 0s 2ms/step - loss: 0.1732 - accuracy: 0.9462 - val_loss: 0.2143 - val_accuracy: 0.9386\n",
      "Epoch 30/50\n",
      "127/127 [==============================] - 0s 3ms/step - loss: 0.1598 - accuracy: 0.9497 - val_loss: 0.2274 - val_accuracy: 0.9376\n",
      "Epoch 31/50\n",
      "127/127 [==============================] - 0s 2ms/step - loss: 0.1621 - accuracy: 0.9499 - val_loss: 0.2090 - val_accuracy: 0.9485\n",
      "Epoch 32/50\n",
      "127/127 [==============================] - 0s 3ms/step - loss: 0.1586 - accuracy: 0.9534 - val_loss: 0.2166 - val_accuracy: 0.9445\n",
      "Epoch 33/50\n",
      "127/127 [==============================] - 0s 2ms/step - loss: 0.1581 - accuracy: 0.9487 - val_loss: 0.2113 - val_accuracy: 0.9435\n",
      "Epoch 34/50\n",
      "127/127 [==============================] - 0s 2ms/step - loss: 0.1645 - accuracy: 0.9477 - val_loss: 0.2418 - val_accuracy: 0.9326\n",
      "Epoch 35/50\n",
      "127/127 [==============================] - 0s 3ms/step - loss: 0.1608 - accuracy: 0.9504 - val_loss: 0.2470 - val_accuracy: 0.9267\n",
      "Epoch 36/50\n",
      "127/127 [==============================] - 0s 3ms/step - loss: 0.1592 - accuracy: 0.9472 - val_loss: 0.2442 - val_accuracy: 0.9395\n",
      "Epoch 37/50\n",
      "127/127 [==============================] - 0s 3ms/step - loss: 0.1636 - accuracy: 0.9482 - val_loss: 0.2111 - val_accuracy: 0.9445\n",
      "Epoch 38/50\n",
      "107/127 [========================>.....] - ETA: 0s - loss: 0.1675 - accuracy: 0.9471Restoring model weights from the end of the best epoch: 31.\n",
      "127/127 [==============================] - 0s 3ms/step - loss: 0.1656 - accuracy: 0.9472 - val_loss: 0.2296 - val_accuracy: 0.9395\n",
      "Epoch 38: early stopping\n"
     ]
    }
   ],
   "source": [
    "res = model.fit(x=X_train, \n",
    "                y=y_train, \n",
    "                epochs=50,\n",
    "                validation_split=0.2,\n",
    "                callbacks=callback_list)"
   ]
  },
  {
   "cell_type": "code",
   "execution_count": 110,
   "metadata": {},
   "outputs": [
    {
     "data": {
      "text/html": [
       "<div>\n",
       "<style scoped>\n",
       "    .dataframe tbody tr th:only-of-type {\n",
       "        vertical-align: middle;\n",
       "    }\n",
       "\n",
       "    .dataframe tbody tr th {\n",
       "        vertical-align: top;\n",
       "    }\n",
       "\n",
       "    .dataframe thead th {\n",
       "        text-align: right;\n",
       "    }\n",
       "</style>\n",
       "<table border=\"1\" class=\"dataframe\">\n",
       "  <thead>\n",
       "    <tr style=\"text-align: right;\">\n",
       "      <th></th>\n",
       "      <th>loss</th>\n",
       "      <th>accuracy</th>\n",
       "      <th>val_loss</th>\n",
       "      <th>val_accuracy</th>\n",
       "    </tr>\n",
       "  </thead>\n",
       "  <tbody>\n",
       "    <tr>\n",
       "      <th>0</th>\n",
       "      <td>0.480405</td>\n",
       "      <td>0.797224</td>\n",
       "      <td>0.730986</td>\n",
       "      <td>0.675917</td>\n",
       "    </tr>\n",
       "    <tr>\n",
       "      <th>1</th>\n",
       "      <td>0.377667</td>\n",
       "      <td>0.854487</td>\n",
       "      <td>0.349135</td>\n",
       "      <td>0.890981</td>\n",
       "    </tr>\n",
       "    <tr>\n",
       "      <th>2</th>\n",
       "      <td>0.301385</td>\n",
       "      <td>0.893406</td>\n",
       "      <td>0.353362</td>\n",
       "      <td>0.870169</td>\n",
       "    </tr>\n",
       "    <tr>\n",
       "      <th>3</th>\n",
       "      <td>0.291441</td>\n",
       "      <td>0.900347</td>\n",
       "      <td>0.283386</td>\n",
       "      <td>0.923687</td>\n",
       "    </tr>\n",
       "    <tr>\n",
       "      <th>4</th>\n",
       "      <td>0.267944</td>\n",
       "      <td>0.912742</td>\n",
       "      <td>0.381131</td>\n",
       "      <td>0.843409</td>\n",
       "    </tr>\n",
       "    <tr>\n",
       "      <th>5</th>\n",
       "      <td>0.251918</td>\n",
       "      <td>0.918195</td>\n",
       "      <td>0.310057</td>\n",
       "      <td>0.906838</td>\n",
       "    </tr>\n",
       "    <tr>\n",
       "      <th>6</th>\n",
       "      <td>0.288495</td>\n",
       "      <td>0.898364</td>\n",
       "      <td>0.292612</td>\n",
       "      <td>0.910803</td>\n",
       "    </tr>\n",
       "    <tr>\n",
       "      <th>7</th>\n",
       "      <td>0.246109</td>\n",
       "      <td>0.923153</td>\n",
       "      <td>0.263743</td>\n",
       "      <td>0.928642</td>\n",
       "    </tr>\n",
       "    <tr>\n",
       "      <th>8</th>\n",
       "      <td>0.248673</td>\n",
       "      <td>0.920674</td>\n",
       "      <td>0.268759</td>\n",
       "      <td>0.927651</td>\n",
       "    </tr>\n",
       "    <tr>\n",
       "      <th>9</th>\n",
       "      <td>0.248252</td>\n",
       "      <td>0.918691</td>\n",
       "      <td>0.271723</td>\n",
       "      <td>0.922696</td>\n",
       "    </tr>\n",
       "    <tr>\n",
       "      <th>10</th>\n",
       "      <td>0.249030</td>\n",
       "      <td>0.911502</td>\n",
       "      <td>0.276265</td>\n",
       "      <td>0.913776</td>\n",
       "    </tr>\n",
       "    <tr>\n",
       "      <th>11</th>\n",
       "      <td>0.242420</td>\n",
       "      <td>0.919931</td>\n",
       "      <td>0.278192</td>\n",
       "      <td>0.911794</td>\n",
       "    </tr>\n",
       "    <tr>\n",
       "      <th>12</th>\n",
       "      <td>0.220171</td>\n",
       "      <td>0.931829</td>\n",
       "      <td>0.246526</td>\n",
       "      <td>0.936571</td>\n",
       "    </tr>\n",
       "    <tr>\n",
       "      <th>13</th>\n",
       "      <td>0.222355</td>\n",
       "      <td>0.929350</td>\n",
       "      <td>0.283884</td>\n",
       "      <td>0.900892</td>\n",
       "    </tr>\n",
       "    <tr>\n",
       "      <th>14</th>\n",
       "      <td>0.210630</td>\n",
       "      <td>0.937283</td>\n",
       "      <td>0.271455</td>\n",
       "      <td>0.919722</td>\n",
       "    </tr>\n",
       "    <tr>\n",
       "      <th>15</th>\n",
       "      <td>0.222548</td>\n",
       "      <td>0.927863</td>\n",
       "      <td>0.234508</td>\n",
       "      <td>0.936571</td>\n",
       "    </tr>\n",
       "    <tr>\n",
       "      <th>16</th>\n",
       "      <td>0.208015</td>\n",
       "      <td>0.935548</td>\n",
       "      <td>0.233320</td>\n",
       "      <td>0.939544</td>\n",
       "    </tr>\n",
       "    <tr>\n",
       "      <th>17</th>\n",
       "      <td>0.194749</td>\n",
       "      <td>0.939514</td>\n",
       "      <td>0.264795</td>\n",
       "      <td>0.910803</td>\n",
       "    </tr>\n",
       "    <tr>\n",
       "      <th>18</th>\n",
       "      <td>0.193665</td>\n",
       "      <td>0.943480</td>\n",
       "      <td>0.241758</td>\n",
       "      <td>0.928642</td>\n",
       "    </tr>\n",
       "    <tr>\n",
       "      <th>19</th>\n",
       "      <td>0.189219</td>\n",
       "      <td>0.944224</td>\n",
       "      <td>0.245518</td>\n",
       "      <td>0.932607</td>\n",
       "    </tr>\n",
       "    <tr>\n",
       "      <th>20</th>\n",
       "      <td>0.203788</td>\n",
       "      <td>0.937531</td>\n",
       "      <td>0.224828</td>\n",
       "      <td>0.935580</td>\n",
       "    </tr>\n",
       "    <tr>\n",
       "      <th>21</th>\n",
       "      <td>0.184857</td>\n",
       "      <td>0.939266</td>\n",
       "      <td>0.249349</td>\n",
       "      <td>0.927651</td>\n",
       "    </tr>\n",
       "    <tr>\n",
       "      <th>22</th>\n",
       "      <td>0.183152</td>\n",
       "      <td>0.941745</td>\n",
       "      <td>0.233425</td>\n",
       "      <td>0.948464</td>\n",
       "    </tr>\n",
       "    <tr>\n",
       "      <th>23</th>\n",
       "      <td>0.180302</td>\n",
       "      <td>0.942737</td>\n",
       "      <td>0.231561</td>\n",
       "      <td>0.939544</td>\n",
       "    </tr>\n",
       "    <tr>\n",
       "      <th>24</th>\n",
       "      <td>0.188725</td>\n",
       "      <td>0.940258</td>\n",
       "      <td>0.240398</td>\n",
       "      <td>0.926660</td>\n",
       "    </tr>\n",
       "    <tr>\n",
       "      <th>25</th>\n",
       "      <td>0.182864</td>\n",
       "      <td>0.943480</td>\n",
       "      <td>0.217534</td>\n",
       "      <td>0.948464</td>\n",
       "    </tr>\n",
       "    <tr>\n",
       "      <th>26</th>\n",
       "      <td>0.193133</td>\n",
       "      <td>0.939514</td>\n",
       "      <td>0.261143</td>\n",
       "      <td>0.920714</td>\n",
       "    </tr>\n",
       "    <tr>\n",
       "      <th>27</th>\n",
       "      <td>0.188615</td>\n",
       "      <td>0.939762</td>\n",
       "      <td>0.225225</td>\n",
       "      <td>0.944499</td>\n",
       "    </tr>\n",
       "    <tr>\n",
       "      <th>28</th>\n",
       "      <td>0.173231</td>\n",
       "      <td>0.946207</td>\n",
       "      <td>0.214344</td>\n",
       "      <td>0.938553</td>\n",
       "    </tr>\n",
       "    <tr>\n",
       "      <th>29</th>\n",
       "      <td>0.159845</td>\n",
       "      <td>0.949678</td>\n",
       "      <td>0.227446</td>\n",
       "      <td>0.937562</td>\n",
       "    </tr>\n",
       "    <tr>\n",
       "      <th>30</th>\n",
       "      <td>0.162141</td>\n",
       "      <td>0.949926</td>\n",
       "      <td>0.208960</td>\n",
       "      <td>0.948464</td>\n",
       "    </tr>\n",
       "    <tr>\n",
       "      <th>31</th>\n",
       "      <td>0.158626</td>\n",
       "      <td>0.953396</td>\n",
       "      <td>0.216579</td>\n",
       "      <td>0.944499</td>\n",
       "    </tr>\n",
       "    <tr>\n",
       "      <th>32</th>\n",
       "      <td>0.158121</td>\n",
       "      <td>0.948686</td>\n",
       "      <td>0.211272</td>\n",
       "      <td>0.943508</td>\n",
       "    </tr>\n",
       "    <tr>\n",
       "      <th>33</th>\n",
       "      <td>0.164466</td>\n",
       "      <td>0.947695</td>\n",
       "      <td>0.241768</td>\n",
       "      <td>0.932607</td>\n",
       "    </tr>\n",
       "    <tr>\n",
       "      <th>34</th>\n",
       "      <td>0.160827</td>\n",
       "      <td>0.950421</td>\n",
       "      <td>0.246963</td>\n",
       "      <td>0.926660</td>\n",
       "    </tr>\n",
       "    <tr>\n",
       "      <th>35</th>\n",
       "      <td>0.159244</td>\n",
       "      <td>0.947199</td>\n",
       "      <td>0.244156</td>\n",
       "      <td>0.939544</td>\n",
       "    </tr>\n",
       "    <tr>\n",
       "      <th>36</th>\n",
       "      <td>0.163586</td>\n",
       "      <td>0.948190</td>\n",
       "      <td>0.211075</td>\n",
       "      <td>0.944499</td>\n",
       "    </tr>\n",
       "    <tr>\n",
       "      <th>37</th>\n",
       "      <td>0.165606</td>\n",
       "      <td>0.947199</td>\n",
       "      <td>0.229640</td>\n",
       "      <td>0.939544</td>\n",
       "    </tr>\n",
       "  </tbody>\n",
       "</table>\n",
       "</div>"
      ],
      "text/plain": [
       "        loss  accuracy  val_loss  val_accuracy\n",
       "0   0.480405  0.797224  0.730986      0.675917\n",
       "1   0.377667  0.854487  0.349135      0.890981\n",
       "2   0.301385  0.893406  0.353362      0.870169\n",
       "3   0.291441  0.900347  0.283386      0.923687\n",
       "4   0.267944  0.912742  0.381131      0.843409\n",
       "5   0.251918  0.918195  0.310057      0.906838\n",
       "6   0.288495  0.898364  0.292612      0.910803\n",
       "7   0.246109  0.923153  0.263743      0.928642\n",
       "8   0.248673  0.920674  0.268759      0.927651\n",
       "9   0.248252  0.918691  0.271723      0.922696\n",
       "10  0.249030  0.911502  0.276265      0.913776\n",
       "11  0.242420  0.919931  0.278192      0.911794\n",
       "12  0.220171  0.931829  0.246526      0.936571\n",
       "13  0.222355  0.929350  0.283884      0.900892\n",
       "14  0.210630  0.937283  0.271455      0.919722\n",
       "15  0.222548  0.927863  0.234508      0.936571\n",
       "16  0.208015  0.935548  0.233320      0.939544\n",
       "17  0.194749  0.939514  0.264795      0.910803\n",
       "18  0.193665  0.943480  0.241758      0.928642\n",
       "19  0.189219  0.944224  0.245518      0.932607\n",
       "20  0.203788  0.937531  0.224828      0.935580\n",
       "21  0.184857  0.939266  0.249349      0.927651\n",
       "22  0.183152  0.941745  0.233425      0.948464\n",
       "23  0.180302  0.942737  0.231561      0.939544\n",
       "24  0.188725  0.940258  0.240398      0.926660\n",
       "25  0.182864  0.943480  0.217534      0.948464\n",
       "26  0.193133  0.939514  0.261143      0.920714\n",
       "27  0.188615  0.939762  0.225225      0.944499\n",
       "28  0.173231  0.946207  0.214344      0.938553\n",
       "29  0.159845  0.949678  0.227446      0.937562\n",
       "30  0.162141  0.949926  0.208960      0.948464\n",
       "31  0.158626  0.953396  0.216579      0.944499\n",
       "32  0.158121  0.948686  0.211272      0.943508\n",
       "33  0.164466  0.947695  0.241768      0.932607\n",
       "34  0.160827  0.950421  0.246963      0.926660\n",
       "35  0.159244  0.947199  0.244156      0.939544\n",
       "36  0.163586  0.948190  0.211075      0.944499\n",
       "37  0.165606  0.947199  0.229640      0.939544"
      ]
     },
     "execution_count": 110,
     "metadata": {},
     "output_type": "execute_result"
    }
   ],
   "source": [
    "df = pd.DataFrame(res.history)\n",
    "df"
   ]
  },
  {
   "cell_type": "code",
   "execution_count": 111,
   "metadata": {},
   "outputs": [
    {
     "data": {
      "image/png": "[encoded data removed]",
      "text/plain": [
       "<Figure size 1080x720 with 1 Axes>"
      ]
     },
     "metadata": {},
     "output_type": "display_data"
    }
   ],
   "source": [
    "plt.plot(res.epoch, df.loss, label='loss')\n",
    "plt.plot(res.epoch, df.val_loss, label='val_loss')\n",
    "plt.title('Loss')\n",
    "plt.xlabel('Epoch')\n",
    "plt.ylabel('Loss')\n",
    "plt.legend()\n",
    "plt.show()"
   ]
  },
  {
   "cell_type": "code",
   "execution_count": 112,
   "metadata": {},
   "outputs": [
    {
     "data": {
      "image/png": "[encoded data removed]",
      "text/plain": [
       "<Figure size 1080x720 with 1 Axes>"
      ]
     },
     "metadata": {},
     "output_type": "display_data"
    }
   ],
   "source": [
    "plt.plot(res.epoch, df.accuracy, label='accuracy')\n",
    "plt.plot(res.epoch, df.val_accuracy, label='val_accuracy')\n",
    "plt.title('Accuracy')\n",
    "plt.xlabel('Epoch')\n",
    "plt.ylabel('Accuracy')\n",
    "plt.legend()\n",
    "plt.show()"
   ]
  },
  {
   "cell_type": "code",
   "execution_count": 113,
   "metadata": {},
   "outputs": [
    {
     "name": "stdout",
     "output_type": "stream",
     "text": [
      "14/14 [==============================] - 0s 1ms/step\n",
      "Misclassified examples: 60\n"
     ]
    }
   ],
   "source": [
    "pred = model.predict(X_test)\n",
    "pred = np.argmax(pred,1)\n",
    "print('Misclassified examples: %d' % (y_test != pred).sum())"
   ]
  },
  {
   "cell_type": "code",
   "execution_count": 114,
   "metadata": {},
   "outputs": [
    {
     "name": "stdout",
     "output_type": "stream",
     "text": [
      "14/14 [==============================] - 0s 1ms/step - loss: 0.5649 - accuracy: 0.8636\n",
      "Loss: 0.564919650554657\n",
      "Accuracy 0.8636363744735718\n"
     ]
    }
   ],
   "source": [
    "# Evaluate model\n",
    "(test_loss, test_accuracy) = model.evaluate(x=X_test,y=y_test)\n",
    "print(\"Loss:\", test_loss)\n",
    "print('Accuracy', test_accuracy)"
   ]
  },
  {
   "cell_type": "code",
   "execution_count": 115,
   "metadata": {},
   "outputs": [
    {
     "data": {
      "image/png": "[encoded data removed]",
      "text/plain": [
       "<Figure size 1080x720 with 2 Axes>"
      ]
     },
     "metadata": {},
     "output_type": "display_data"
    }
   ],
   "source": [
    "cm = confusion_matrix(y_test,pred)\n",
    "\n",
    "sns.heatmap(cm, annot=True, fmt='g', xticklabels=['1','2','3'], yticklabels=['1','2','3'])\n",
    "\n",
    "plt.ylabel('Prediction',fontsize=13)\n",
    "plt.xlabel('Actual',fontsize=13)\n",
    "plt.title('Confusion Matrix',fontsize=17)\n",
    "plt.show()"
   ]
  },
  {
   "cell_type": "code",
   "execution_count": 116,
   "metadata": {},
   "outputs": [],
   "source": [
    "# save model\n",
    "# path='./web/model/model.h5'\n",
    "# model.save(path)"
   ]
  }
 ],
 "metadata": {
  "kernelspec": {
   "display_name": "Python 3",
   "language": "python",
   "name": "python3"
  },
  "language_info": {
   "codemirror_mode": {
    "name": "ipython",
    "version": 3
   },
   "file_extension": ".py",
   "mimetype": "text/x-python",
   "name": "python",
   "nbconvert_exporter": "python",
   "pygments_lexer": "ipython3",
   "version": "3.10.0"
  },
  "orig_nbformat": 4
 },
 "nbformat": 4,
 "nbformat_minor": 2
}
