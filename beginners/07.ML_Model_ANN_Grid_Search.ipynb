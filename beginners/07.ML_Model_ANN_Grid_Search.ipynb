{
 "cells": [
  {
   "attachments": {},
   "cell_type": "markdown",
   "metadata": {},
   "source": [
    "# Machine Learning Model ANN with Grid Search"
   ]
  },
  {
   "cell_type": "code",
   "execution_count": 37,
   "metadata": {},
   "outputs": [],
   "source": [
    "import pandas as pd\n",
    "import numpy as np\n",
    "import matplotlib.pyplot as plt\n",
    "import seaborn as sns\n",
    "import warnings\n",
    "\n",
    "from sklearn.preprocessing import StandardScaler,LabelEncoder\n",
    "from sklearn.model_selection import train_test_split, GridSearchCV\n",
    "from sklearn.neural_network import MLPClassifier\n",
    "from sklearn.metrics import accuracy_score, confusion_matrix\n",
    "\n",
    "warnings.filterwarnings(\"ignore\")\n",
    "sns.set(rc={'figure.figsize':(15,10)})\n",
    "warnings.filterwarnings('ignore')"
   ]
  },
  {
   "attachments": {},
   "cell_type": "markdown",
   "metadata": {},
   "source": [
    "### Basic implementation of the model"
   ]
  },
  {
   "cell_type": "code",
   "execution_count": 38,
   "metadata": {},
   "outputs": [],
   "source": [
    "def position_index(x):\n",
    "    if x<4:\n",
    "        return 1\n",
    "    if x>10:\n",
    "        return 3\n",
    "    else :\n",
    "        return 2"
   ]
  },
  {
   "cell_type": "code",
   "execution_count": 39,
   "metadata": {},
   "outputs": [],
   "source": [
    "# Dataset generated in previous phase\n",
    "data = pd.read_csv('./data_f1/cleaned_data.csv')"
   ]
  },
  {
   "cell_type": "code",
   "execution_count": 40,
   "metadata": {},
   "outputs": [],
   "source": [
    "x = data[['GP_name','quali_pos','constructor','driver','position','driver_confidence','constructor_reliability','active_driver','active_constructor']]"
   ]
  },
  {
   "cell_type": "code",
   "execution_count": 41,
   "metadata": {},
   "outputs": [],
   "source": [
    "x = x[x['active_constructor']==1]\n",
    "x = x[x['active_driver']==1]"
   ]
  },
  {
   "cell_type": "code",
   "execution_count": 42,
   "metadata": {},
   "outputs": [],
   "source": [
    "sc  = StandardScaler()\n",
    "le = LabelEncoder()\n",
    "x['GP_name'] = le.fit_transform(x['GP_name'])\n",
    "x['constructor'] = le.fit_transform(x['constructor'])\n",
    "x['driver'] = le.fit_transform(x['driver'])\n",
    "x['GP_name'] = le.fit_transform(x['GP_name'])\n",
    "X = x.drop(['position','active_driver','active_constructor'],1)\n",
    "y = x['position'].apply(lambda x: position_index(x))"
   ]
  },
  {
   "cell_type": "code",
   "execution_count": 43,
   "metadata": {},
   "outputs": [],
   "source": [
    "# Separate the test data into train and test sets\n",
    "X_train, X_test, y_train, y_test = train_test_split(X, y, test_size=0.2, random_state=0)"
   ]
  },
  {
   "cell_type": "code",
   "execution_count": 44,
   "metadata": {},
   "outputs": [
    {
     "data": {
      "text/html": [
       "<style>#sk-container-id-5 {color: black;background-color: white;}#sk-container-id-5 pre{padding: 0;}#sk-container-id-5 div.sk-toggleable {background-color: white;}#sk-container-id-5 label.sk-toggleable__label {cursor: pointer;display: block;width: 100%;margin-bottom: 0;padding: 0.3em;box-sizing: border-box;text-align: center;}#sk-container-id-5 label.sk-toggleable__label-arrow:before {content: \"▸\";float: left;margin-right: 0.25em;color: #696969;}#sk-container-id-5 label.sk-toggleable__label-arrow:hover:before {color: black;}#sk-container-id-5 div.sk-estimator:hover label.sk-toggleable__label-arrow:before {color: black;}#sk-container-id-5 div.sk-toggleable__content {max-height: 0;max-width: 0;overflow: hidden;text-align: left;background-color: #f0f8ff;}#sk-container-id-5 div.sk-toggleable__content pre {margin: 0.2em;color: black;border-radius: 0.25em;background-color: #f0f8ff;}#sk-container-id-5 input.sk-toggleable__control:checked~div.sk-toggleable__content {max-height: 200px;max-width: 100%;overflow: auto;}#sk-container-id-5 input.sk-toggleable__control:checked~label.sk-toggleable__label-arrow:before {content: \"▾\";}#sk-container-id-5 div.sk-estimator input.sk-toggleable__control:checked~label.sk-toggleable__label {background-color: #d4ebff;}#sk-container-id-5 div.sk-label input.sk-toggleable__control:checked~label.sk-toggleable__label {background-color: #d4ebff;}#sk-container-id-5 input.sk-hidden--visually {border: 0;clip: rect(1px 1px 1px 1px);clip: rect(1px, 1px, 1px, 1px);height: 1px;margin: -1px;overflow: hidden;padding: 0;position: absolute;width: 1px;}#sk-container-id-5 div.sk-estimator {font-family: monospace;background-color: #f0f8ff;border: 1px dotted black;border-radius: 0.25em;box-sizing: border-box;margin-bottom: 0.5em;}#sk-container-id-5 div.sk-estimator:hover {background-color: #d4ebff;}#sk-container-id-5 div.sk-parallel-item::after {content: \"\";width: 100%;border-bottom: 1px solid gray;flex-grow: 1;}#sk-container-id-5 div.sk-label:hover label.sk-toggleable__label {background-color: #d4ebff;}#sk-container-id-5 div.sk-serial::before {content: \"\";position: absolute;border-left: 1px solid gray;box-sizing: border-box;top: 0;bottom: 0;left: 50%;z-index: 0;}#sk-container-id-5 div.sk-serial {display: flex;flex-direction: column;align-items: center;background-color: white;padding-right: 0.2em;padding-left: 0.2em;position: relative;}#sk-container-id-5 div.sk-item {position: relative;z-index: 1;}#sk-container-id-5 div.sk-parallel {display: flex;align-items: stretch;justify-content: center;background-color: white;position: relative;}#sk-container-id-5 div.sk-item::before, #sk-container-id-5 div.sk-parallel-item::before {content: \"\";position: absolute;border-left: 1px solid gray;box-sizing: border-box;top: 0;bottom: 0;left: 50%;z-index: -1;}#sk-container-id-5 div.sk-parallel-item {display: flex;flex-direction: column;z-index: 1;position: relative;background-color: white;}#sk-container-id-5 div.sk-parallel-item:first-child::after {align-self: flex-end;width: 50%;}#sk-container-id-5 div.sk-parallel-item:last-child::after {align-self: flex-start;width: 50%;}#sk-container-id-5 div.sk-parallel-item:only-child::after {width: 0;}#sk-container-id-5 div.sk-dashed-wrapped {border: 1px dashed gray;margin: 0 0.4em 0.5em 0.4em;box-sizing: border-box;padding-bottom: 0.4em;background-color: white;}#sk-container-id-5 div.sk-label label {font-family: monospace;font-weight: bold;display: inline-block;line-height: 1.2em;}#sk-container-id-5 div.sk-label-container {text-align: center;}#sk-container-id-5 div.sk-container {/* jupyter's `normalize.less` sets `[hidden] { display: none; }` but bootstrap.min.css set `[hidden] { display: none !important; }` so we also need the `!important` here to be able to override the default hidden behavior on the sphinx rendered scikit-learn.org. See: https://github.com/scikit-learn/scikit-learn/issues/21755 */display: inline-block !important;position: relative;}#sk-container-id-5 div.sk-text-repr-fallback {display: none;}</style><div id=\"sk-container-id-5\" class=\"sk-top-container\"><div class=\"sk-text-repr-fallback\"><pre>MLPClassifier()</pre><b>In a Jupyter environment, please rerun this cell to show the HTML representation or trust the notebook. <br />On GitHub, the HTML representation is unable to render, please try loading this page with nbviewer.org.</b></div><div class=\"sk-container\" hidden><div class=\"sk-item\"><div class=\"sk-estimator sk-toggleable\"><input class=\"sk-toggleable__control sk-hidden--visually\" id=\"sk-estimator-id-7\" type=\"checkbox\" checked><label for=\"sk-estimator-id-7\" class=\"sk-toggleable__label sk-toggleable__label-arrow\">MLPClassifier</label><div class=\"sk-toggleable__content\"><pre>MLPClassifier()</pre></div></div></div></div></div>"
      ],
      "text/plain": [
       "MLPClassifier()"
      ]
     },
     "execution_count": 44,
     "metadata": {},
     "output_type": "execute_result"
    }
   ],
   "source": [
    "MLP = MLPClassifier()\n",
    "MLP.fit(X_train, y_train)"
   ]
  },
  {
   "cell_type": "code",
   "execution_count": 45,
   "metadata": {},
   "outputs": [
    {
     "name": "stdout",
     "output_type": "stream",
     "text": [
      "Misclassified examples: 54\n"
     ]
    }
   ],
   "source": [
    "y_pred = MLP.predict(X_test)\n",
    "print('Misclassified examples: %d' % (y_test != y_pred).sum())"
   ]
  },
  {
   "cell_type": "code",
   "execution_count": 46,
   "metadata": {},
   "outputs": [
    {
     "name": "stdout",
     "output_type": "stream",
     "text": [
      "Accuracy: 0.901\n"
     ]
    }
   ],
   "source": [
    "print('Accuracy: %.3f' % accuracy_score(y_test, y_pred))"
   ]
  },
  {
   "cell_type": "code",
   "execution_count": 47,
   "metadata": {},
   "outputs": [
    {
     "data": {
      "image/png": "[encoded data removed]",
      "text/plain": [
       "<Figure size 1080x720 with 2 Axes>"
      ]
     },
     "metadata": {},
     "output_type": "display_data"
    }
   ],
   "source": [
    "cm = confusion_matrix(y_test,y_pred)\n",
    "\n",
    "sns.heatmap(cm, annot=True, fmt='g', xticklabels=['1','2','3'], yticklabels=['1','2','3'])\n",
    "\n",
    "plt.ylabel('Prediction',fontsize=13)\n",
    "plt.xlabel('Actual',fontsize=13)\n",
    "plt.title('Confusion Matrix',fontsize=17)\n",
    "plt.show()"
   ]
  },
  {
   "attachments": {},
   "cell_type": "markdown",
   "metadata": {},
   "source": [
    "### Hyperparameter tuning with GridSearch"
   ]
  },
  {
   "cell_type": "code",
   "execution_count": 48,
   "metadata": {},
   "outputs": [],
   "source": [
    "param_grid = {\n",
    "    'hidden_layer_sizes': [100, 200],\n",
    "    'max_iter': [200, 250],\n",
    "    'activation': ['identity', 'logistic', 'tanh', 'relu'],\n",
    "    'solver':  ['lbfgs','sgd','adam']\n",
    "}"
   ]
  },
  {
   "cell_type": "code",
   "execution_count": 49,
   "metadata": {},
   "outputs": [],
   "source": [
    "# Define the scoring metric to use for evaluation\n",
    "scoring = 'accuracy'\n",
    "# Create a GridSearchCV object\n",
    "grid_search = GridSearchCV(estimator=MLP, param_grid=param_grid, scoring=scoring, cv=3, verbose=2)"
   ]
  },
  {
   "cell_type": "code",
   "execution_count": 50,
   "metadata": {},
   "outputs": [
    {
     "name": "stdout",
     "output_type": "stream",
     "text": [
      "Fitting 3 folds for each of 48 candidates, totalling 144 fits\n",
      "[CV] END activation=identity, hidden_layer_sizes=100, max_iter=200, solver=lbfgs; total time=   0.7s\n",
      "[CV] END activation=identity, hidden_layer_sizes=100, max_iter=200, solver=lbfgs; total time=   0.4s\n",
      "[CV] END activation=identity, hidden_layer_sizes=100, max_iter=200, solver=lbfgs; total time=   0.4s\n",
      "[CV] END activation=identity, hidden_layer_sizes=100, max_iter=200, solver=sgd; total time=   0.4s\n",
      "[CV] END activation=identity, hidden_layer_sizes=100, max_iter=200, solver=sgd; total time=   0.3s\n",
      "[CV] END activation=identity, hidden_layer_sizes=100, max_iter=200, solver=sgd; total time=   0.4s\n",
      "[CV] END activation=identity, hidden_layer_sizes=100, max_iter=200, solver=adam; total time=   0.2s\n",
      "[CV] END activation=identity, hidden_layer_sizes=100, max_iter=200, solver=adam; total time=   0.2s\n",
      "[CV] END activation=identity, hidden_layer_sizes=100, max_iter=200, solver=adam; total time=   0.3s\n",
      "[CV] END activation=identity, hidden_layer_sizes=100, max_iter=250, solver=lbfgs; total time=   0.8s\n",
      "[CV] END activation=identity, hidden_layer_sizes=100, max_iter=250, solver=lbfgs; total time=   0.8s\n",
      "[CV] END activation=identity, hidden_layer_sizes=100, max_iter=250, solver=lbfgs; total time=   0.8s\n",
      "[CV] END activation=identity, hidden_layer_sizes=100, max_iter=250, solver=sgd; total time=   0.5s\n",
      "[CV] END activation=identity, hidden_layer_sizes=100, max_iter=250, solver=sgd; total time=   0.5s\n",
      "[CV] END activation=identity, hidden_layer_sizes=100, max_iter=250, solver=sgd; total time=   0.4s\n",
      "[CV] END activation=identity, hidden_layer_sizes=100, max_iter=250, solver=adam; total time=   0.4s\n",
      "[CV] END activation=identity, hidden_layer_sizes=100, max_iter=250, solver=adam; total time=   0.2s\n",
      "[CV] END activation=identity, hidden_layer_sizes=100, max_iter=250, solver=adam; total time=   0.2s\n",
      "[CV] END activation=identity, hidden_layer_sizes=200, max_iter=200, solver=lbfgs; total time=   0.9s\n",
      "[CV] END activation=identity, hidden_layer_sizes=200, max_iter=200, solver=lbfgs; total time=   1.4s\n",
      "[CV] END activation=identity, hidden_layer_sizes=200, max_iter=200, solver=lbfgs; total time=   1.2s\n",
      "[CV] END activation=identity, hidden_layer_sizes=200, max_iter=200, solver=sgd; total time=   0.8s\n",
      "[CV] END activation=identity, hidden_layer_sizes=200, max_iter=200, solver=sgd; total time=   0.7s\n",
      "[CV] END activation=identity, hidden_layer_sizes=200, max_iter=200, solver=sgd; total time=   0.5s\n",
      "[CV] END activation=identity, hidden_layer_sizes=200, max_iter=200, solver=adam; total time=   0.5s\n",
      "[CV] END activation=identity, hidden_layer_sizes=200, max_iter=200, solver=adam; total time=   0.3s\n",
      "[CV] END activation=identity, hidden_layer_sizes=200, max_iter=200, solver=adam; total time=   0.6s\n",
      "[CV] END activation=identity, hidden_layer_sizes=200, max_iter=250, solver=lbfgs; total time=   1.4s\n",
      "[CV] END activation=identity, hidden_layer_sizes=200, max_iter=250, solver=lbfgs; total time=   1.6s\n",
      "[CV] END activation=identity, hidden_layer_sizes=200, max_iter=250, solver=lbfgs; total time=   1.6s\n",
      "[CV] END activation=identity, hidden_layer_sizes=200, max_iter=250, solver=sgd; total time=   0.4s\n",
      "[CV] END activation=identity, hidden_layer_sizes=200, max_iter=250, solver=sgd; total time=   0.4s\n",
      "[CV] END activation=identity, hidden_layer_sizes=200, max_iter=250, solver=sgd; total time=   0.7s\n",
      "[CV] END activation=identity, hidden_layer_sizes=200, max_iter=250, solver=adam; total time=   0.3s\n",
      "[CV] END activation=identity, hidden_layer_sizes=200, max_iter=250, solver=adam; total time=   0.3s\n",
      "[CV] END activation=identity, hidden_layer_sizes=200, max_iter=250, solver=adam; total time=   0.2s\n",
      "[CV] END activation=logistic, hidden_layer_sizes=100, max_iter=200, solver=lbfgs; total time=   1.0s\n",
      "[CV] END activation=logistic, hidden_layer_sizes=100, max_iter=200, solver=lbfgs; total time=   1.3s\n",
      "[CV] END activation=logistic, hidden_layer_sizes=100, max_iter=200, solver=lbfgs; total time=   1.3s\n",
      "[CV] END activation=logistic, hidden_layer_sizes=100, max_iter=200, solver=sgd; total time=   1.1s\n",
      "[CV] END activation=logistic, hidden_layer_sizes=100, max_iter=200, solver=sgd; total time=   1.0s\n",
      "[CV] END activation=logistic, hidden_layer_sizes=100, max_iter=200, solver=sgd; total time=   1.1s\n",
      "[CV] END activation=logistic, hidden_layer_sizes=100, max_iter=200, solver=adam; total time=   1.0s\n",
      "[CV] END activation=logistic, hidden_layer_sizes=100, max_iter=200, solver=adam; total time=   1.2s\n",
      "[CV] END activation=logistic, hidden_layer_sizes=100, max_iter=200, solver=adam; total time=   1.2s\n",
      "[CV] END activation=logistic, hidden_layer_sizes=100, max_iter=250, solver=lbfgs; total time=   1.7s\n",
      "[CV] END activation=logistic, hidden_layer_sizes=100, max_iter=250, solver=lbfgs; total time=   1.6s\n",
      "[CV] END activation=logistic, hidden_layer_sizes=100, max_iter=250, solver=lbfgs; total time=   1.3s\n",
      "[CV] END activation=logistic, hidden_layer_sizes=100, max_iter=250, solver=sgd; total time=   1.6s\n",
      "[CV] END activation=logistic, hidden_layer_sizes=100, max_iter=250, solver=sgd; total time=   1.2s\n",
      "[CV] END activation=logistic, hidden_layer_sizes=100, max_iter=250, solver=sgd; total time=   1.5s\n",
      "[CV] END activation=logistic, hidden_layer_sizes=100, max_iter=250, solver=adam; total time=   1.2s\n",
      "[CV] END activation=logistic, hidden_layer_sizes=100, max_iter=250, solver=adam; total time=   1.2s\n",
      "[CV] END activation=logistic, hidden_layer_sizes=100, max_iter=250, solver=adam; total time=   1.1s\n",
      "[CV] END activation=logistic, hidden_layer_sizes=200, max_iter=200, solver=lbfgs; total time=   1.9s\n",
      "[CV] END activation=logistic, hidden_layer_sizes=200, max_iter=200, solver=lbfgs; total time=   1.8s\n",
      "[CV] END activation=logistic, hidden_layer_sizes=200, max_iter=200, solver=lbfgs; total time=   1.9s\n",
      "[CV] END activation=logistic, hidden_layer_sizes=200, max_iter=200, solver=sgd; total time=   1.2s\n",
      "[CV] END activation=logistic, hidden_layer_sizes=200, max_iter=200, solver=sgd; total time=   1.2s\n",
      "[CV] END activation=logistic, hidden_layer_sizes=200, max_iter=200, solver=sgd; total time=   1.2s\n",
      "[CV] END activation=logistic, hidden_layer_sizes=200, max_iter=200, solver=adam; total time=   1.4s\n",
      "[CV] END activation=logistic, hidden_layer_sizes=200, max_iter=200, solver=adam; total time=   1.3s\n",
      "[CV] END activation=logistic, hidden_layer_sizes=200, max_iter=200, solver=adam; total time=   1.3s\n",
      "[CV] END activation=logistic, hidden_layer_sizes=200, max_iter=250, solver=lbfgs; total time=   2.4s\n",
      "[CV] END activation=logistic, hidden_layer_sizes=200, max_iter=250, solver=lbfgs; total time=   2.3s\n",
      "[CV] END activation=logistic, hidden_layer_sizes=200, max_iter=250, solver=lbfgs; total time=   2.6s\n",
      "[CV] END activation=logistic, hidden_layer_sizes=200, max_iter=250, solver=sgd; total time=   1.6s\n",
      "[CV] END activation=logistic, hidden_layer_sizes=200, max_iter=250, solver=sgd; total time=   1.6s\n",
      "[CV] END activation=logistic, hidden_layer_sizes=200, max_iter=250, solver=sgd; total time=   1.6s\n",
      "[CV] END activation=logistic, hidden_layer_sizes=200, max_iter=250, solver=adam; total time=   1.6s\n",
      "[CV] END activation=logistic, hidden_layer_sizes=200, max_iter=250, solver=adam; total time=   1.6s\n",
      "[CV] END activation=logistic, hidden_layer_sizes=200, max_iter=250, solver=adam; total time=   1.7s\n",
      "[CV] END activation=tanh, hidden_layer_sizes=100, max_iter=200, solver=lbfgs; total time=   1.1s\n",
      "[CV] END activation=tanh, hidden_layer_sizes=100, max_iter=200, solver=lbfgs; total time=   1.1s\n",
      "[CV] END activation=tanh, hidden_layer_sizes=100, max_iter=200, solver=lbfgs; total time=   1.2s\n",
      "[CV] END activation=tanh, hidden_layer_sizes=100, max_iter=200, solver=sgd; total time=   0.8s\n",
      "[CV] END activation=tanh, hidden_layer_sizes=100, max_iter=200, solver=sgd; total time=   0.8s\n",
      "[CV] END activation=tanh, hidden_layer_sizes=100, max_iter=200, solver=sgd; total time=   0.7s\n",
      "[CV] END activation=tanh, hidden_layer_sizes=100, max_iter=200, solver=adam; total time=   0.8s\n",
      "[CV] END activation=tanh, hidden_layer_sizes=100, max_iter=200, solver=adam; total time=   0.8s\n",
      "[CV] END activation=tanh, hidden_layer_sizes=100, max_iter=200, solver=adam; total time=   0.8s\n",
      "[CV] END activation=tanh, hidden_layer_sizes=100, max_iter=250, solver=lbfgs; total time=   1.4s\n",
      "[CV] END activation=tanh, hidden_layer_sizes=100, max_iter=250, solver=lbfgs; total time=   1.5s\n",
      "[CV] END activation=tanh, hidden_layer_sizes=100, max_iter=250, solver=lbfgs; total time=   1.5s\n",
      "[CV] END activation=tanh, hidden_layer_sizes=100, max_iter=250, solver=sgd; total time=   1.0s\n",
      "[CV] END activation=tanh, hidden_layer_sizes=100, max_iter=250, solver=sgd; total time=   1.0s\n",
      "[CV] END activation=tanh, hidden_layer_sizes=100, max_iter=250, solver=sgd; total time=   1.0s\n",
      "[CV] END activation=tanh, hidden_layer_sizes=100, max_iter=250, solver=adam; total time=   1.0s\n",
      "[CV] END activation=tanh, hidden_layer_sizes=100, max_iter=250, solver=adam; total time=   1.0s\n",
      "[CV] END activation=tanh, hidden_layer_sizes=100, max_iter=250, solver=adam; total time=   1.2s\n",
      "[CV] END activation=tanh, hidden_layer_sizes=200, max_iter=200, solver=lbfgs; total time=   2.0s\n",
      "[CV] END activation=tanh, hidden_layer_sizes=200, max_iter=200, solver=lbfgs; total time=   2.0s\n",
      "[CV] END activation=tanh, hidden_layer_sizes=200, max_iter=200, solver=lbfgs; total time=   2.1s\n",
      "[CV] END activation=tanh, hidden_layer_sizes=200, max_iter=200, solver=sgd; total time=   1.2s\n",
      "[CV] END activation=tanh, hidden_layer_sizes=200, max_iter=200, solver=sgd; total time=   1.3s\n",
      "[CV] END activation=tanh, hidden_layer_sizes=200, max_iter=200, solver=sgd; total time=   1.3s\n",
      "[CV] END activation=tanh, hidden_layer_sizes=200, max_iter=200, solver=adam; total time=   1.3s\n",
      "[CV] END activation=tanh, hidden_layer_sizes=200, max_iter=200, solver=adam; total time=   1.4s\n",
      "[CV] END activation=tanh, hidden_layer_sizes=200, max_iter=200, solver=adam; total time=   1.3s\n",
      "[CV] END activation=tanh, hidden_layer_sizes=200, max_iter=250, solver=lbfgs; total time=   2.6s\n",
      "[CV] END activation=tanh, hidden_layer_sizes=200, max_iter=250, solver=lbfgs; total time=   2.7s\n",
      "[CV] END activation=tanh, hidden_layer_sizes=200, max_iter=250, solver=lbfgs; total time=   2.6s\n",
      "[CV] END activation=tanh, hidden_layer_sizes=200, max_iter=250, solver=sgd; total time=   1.6s\n",
      "[CV] END activation=tanh, hidden_layer_sizes=200, max_iter=250, solver=sgd; total time=   1.7s\n",
      "[CV] END activation=tanh, hidden_layer_sizes=200, max_iter=250, solver=sgd; total time=   1.6s\n",
      "[CV] END activation=tanh, hidden_layer_sizes=200, max_iter=250, solver=adam; total time=   1.6s\n",
      "[CV] END activation=tanh, hidden_layer_sizes=200, max_iter=250, solver=adam; total time=   1.8s\n",
      "[CV] END activation=tanh, hidden_layer_sizes=200, max_iter=250, solver=adam; total time=   1.5s\n",
      "[CV] END activation=relu, hidden_layer_sizes=100, max_iter=200, solver=lbfgs; total time=   0.8s\n",
      "[CV] END activation=relu, hidden_layer_sizes=100, max_iter=200, solver=lbfgs; total time=   0.8s\n",
      "[CV] END activation=relu, hidden_layer_sizes=100, max_iter=200, solver=lbfgs; total time=   0.9s\n",
      "[CV] END activation=relu, hidden_layer_sizes=100, max_iter=200, solver=sgd; total time=   0.8s\n",
      "[CV] END activation=relu, hidden_layer_sizes=100, max_iter=200, solver=sgd; total time=   0.7s\n",
      "[CV] END activation=relu, hidden_layer_sizes=100, max_iter=200, solver=sgd; total time=   0.7s\n",
      "[CV] END activation=relu, hidden_layer_sizes=100, max_iter=200, solver=adam; total time=   0.7s\n",
      "[CV] END activation=relu, hidden_layer_sizes=100, max_iter=200, solver=adam; total time=   0.7s\n",
      "[CV] END activation=relu, hidden_layer_sizes=100, max_iter=200, solver=adam; total time=   0.8s\n",
      "[CV] END activation=relu, hidden_layer_sizes=100, max_iter=250, solver=lbfgs; total time=   1.1s\n",
      "[CV] END activation=relu, hidden_layer_sizes=100, max_iter=250, solver=lbfgs; total time=   1.0s\n",
      "[CV] END activation=relu, hidden_layer_sizes=100, max_iter=250, solver=lbfgs; total time=   1.1s\n",
      "[CV] END activation=relu, hidden_layer_sizes=100, max_iter=250, solver=sgd; total time=   1.0s\n",
      "[CV] END activation=relu, hidden_layer_sizes=100, max_iter=250, solver=sgd; total time=   1.0s\n",
      "[CV] END activation=relu, hidden_layer_sizes=100, max_iter=250, solver=sgd; total time=   0.9s\n",
      "[CV] END activation=relu, hidden_layer_sizes=100, max_iter=250, solver=adam; total time=   1.2s\n",
      "[CV] END activation=relu, hidden_layer_sizes=100, max_iter=250, solver=adam; total time=   1.1s\n",
      "[CV] END activation=relu, hidden_layer_sizes=100, max_iter=250, solver=adam; total time=   1.3s\n",
      "[CV] END activation=relu, hidden_layer_sizes=200, max_iter=200, solver=lbfgs; total time=   1.9s\n",
      "[CV] END activation=relu, hidden_layer_sizes=200, max_iter=200, solver=lbfgs; total time=   1.9s\n",
      "[CV] END activation=relu, hidden_layer_sizes=200, max_iter=200, solver=lbfgs; total time=   1.8s\n",
      "[CV] END activation=relu, hidden_layer_sizes=200, max_iter=200, solver=sgd; total time=   1.7s\n",
      "[CV] END activation=relu, hidden_layer_sizes=200, max_iter=200, solver=sgd; total time=   1.4s\n",
      "[CV] END activation=relu, hidden_layer_sizes=200, max_iter=200, solver=sgd; total time=   1.2s\n",
      "[CV] END activation=relu, hidden_layer_sizes=200, max_iter=200, solver=adam; total time=   1.6s\n",
      "[CV] END activation=relu, hidden_layer_sizes=200, max_iter=200, solver=adam; total time=   1.6s\n",
      "[CV] END activation=relu, hidden_layer_sizes=200, max_iter=200, solver=adam; total time=   1.6s\n",
      "[CV] END activation=relu, hidden_layer_sizes=200, max_iter=250, solver=lbfgs; total time=   2.3s\n",
      "[CV] END activation=relu, hidden_layer_sizes=200, max_iter=250, solver=lbfgs; total time=   2.6s\n",
      "[CV] END activation=relu, hidden_layer_sizes=200, max_iter=250, solver=lbfgs; total time=   2.4s\n",
      "[CV] END activation=relu, hidden_layer_sizes=200, max_iter=250, solver=sgd; total time=   1.4s\n",
      "[CV] END activation=relu, hidden_layer_sizes=200, max_iter=250, solver=sgd; total time=   1.4s\n",
      "[CV] END activation=relu, hidden_layer_sizes=200, max_iter=250, solver=sgd; total time=   1.4s\n",
      "[CV] END activation=relu, hidden_layer_sizes=200, max_iter=250, solver=adam; total time=   1.7s\n",
      "[CV] END activation=relu, hidden_layer_sizes=200, max_iter=250, solver=adam; total time=   1.7s\n",
      "[CV] END activation=relu, hidden_layer_sizes=200, max_iter=250, solver=adam; total time=   1.5s\n"
     ]
    },
    {
     "data": {
      "text/html": [
       "<style>#sk-container-id-6 {color: black;background-color: white;}#sk-container-id-6 pre{padding: 0;}#sk-container-id-6 div.sk-toggleable {background-color: white;}#sk-container-id-6 label.sk-toggleable__label {cursor: pointer;display: block;width: 100%;margin-bottom: 0;padding: 0.3em;box-sizing: border-box;text-align: center;}#sk-container-id-6 label.sk-toggleable__label-arrow:before {content: \"▸\";float: left;margin-right: 0.25em;color: #696969;}#sk-container-id-6 label.sk-toggleable__label-arrow:hover:before {color: black;}#sk-container-id-6 div.sk-estimator:hover label.sk-toggleable__label-arrow:before {color: black;}#sk-container-id-6 div.sk-toggleable__content {max-height: 0;max-width: 0;overflow: hidden;text-align: left;background-color: #f0f8ff;}#sk-container-id-6 div.sk-toggleable__content pre {margin: 0.2em;color: black;border-radius: 0.25em;background-color: #f0f8ff;}#sk-container-id-6 input.sk-toggleable__control:checked~div.sk-toggleable__content {max-height: 200px;max-width: 100%;overflow: auto;}#sk-container-id-6 input.sk-toggleable__control:checked~label.sk-toggleable__label-arrow:before {content: \"▾\";}#sk-container-id-6 div.sk-estimator input.sk-toggleable__control:checked~label.sk-toggleable__label {background-color: #d4ebff;}#sk-container-id-6 div.sk-label input.sk-toggleable__control:checked~label.sk-toggleable__label {background-color: #d4ebff;}#sk-container-id-6 input.sk-hidden--visually {border: 0;clip: rect(1px 1px 1px 1px);clip: rect(1px, 1px, 1px, 1px);height: 1px;margin: -1px;overflow: hidden;padding: 0;position: absolute;width: 1px;}#sk-container-id-6 div.sk-estimator {font-family: monospace;background-color: #f0f8ff;border: 1px dotted black;border-radius: 0.25em;box-sizing: border-box;margin-bottom: 0.5em;}#sk-container-id-6 div.sk-estimator:hover {background-color: #d4ebff;}#sk-container-id-6 div.sk-parallel-item::after {content: \"\";width: 100%;border-bottom: 1px solid gray;flex-grow: 1;}#sk-container-id-6 div.sk-label:hover label.sk-toggleable__label {background-color: #d4ebff;}#sk-container-id-6 div.sk-serial::before {content: \"\";position: absolute;border-left: 1px solid gray;box-sizing: border-box;top: 0;bottom: 0;left: 50%;z-index: 0;}#sk-container-id-6 div.sk-serial {display: flex;flex-direction: column;align-items: center;background-color: white;padding-right: 0.2em;padding-left: 0.2em;position: relative;}#sk-container-id-6 div.sk-item {position: relative;z-index: 1;}#sk-container-id-6 div.sk-parallel {display: flex;align-items: stretch;justify-content: center;background-color: white;position: relative;}#sk-container-id-6 div.sk-item::before, #sk-container-id-6 div.sk-parallel-item::before {content: \"\";position: absolute;border-left: 1px solid gray;box-sizing: border-box;top: 0;bottom: 0;left: 50%;z-index: -1;}#sk-container-id-6 div.sk-parallel-item {display: flex;flex-direction: column;z-index: 1;position: relative;background-color: white;}#sk-container-id-6 div.sk-parallel-item:first-child::after {align-self: flex-end;width: 50%;}#sk-container-id-6 div.sk-parallel-item:last-child::after {align-self: flex-start;width: 50%;}#sk-container-id-6 div.sk-parallel-item:only-child::after {width: 0;}#sk-container-id-6 div.sk-dashed-wrapped {border: 1px dashed gray;margin: 0 0.4em 0.5em 0.4em;box-sizing: border-box;padding-bottom: 0.4em;background-color: white;}#sk-container-id-6 div.sk-label label {font-family: monospace;font-weight: bold;display: inline-block;line-height: 1.2em;}#sk-container-id-6 div.sk-label-container {text-align: center;}#sk-container-id-6 div.sk-container {/* jupyter's `normalize.less` sets `[hidden] { display: none; }` but bootstrap.min.css set `[hidden] { display: none !important; }` so we also need the `!important` here to be able to override the default hidden behavior on the sphinx rendered scikit-learn.org. See: https://github.com/scikit-learn/scikit-learn/issues/21755 */display: inline-block !important;position: relative;}#sk-container-id-6 div.sk-text-repr-fallback {display: none;}</style><div id=\"sk-container-id-6\" class=\"sk-top-container\"><div class=\"sk-text-repr-fallback\"><pre>GridSearchCV(cv=3, estimator=MLPClassifier(),\n",
       "             param_grid={&#x27;activation&#x27;: [&#x27;identity&#x27;, &#x27;logistic&#x27;, &#x27;tanh&#x27;, &#x27;relu&#x27;],\n",
       "                         &#x27;hidden_layer_sizes&#x27;: [100, 200],\n",
       "                         &#x27;max_iter&#x27;: [200, 250],\n",
       "                         &#x27;solver&#x27;: [&#x27;lbfgs&#x27;, &#x27;sgd&#x27;, &#x27;adam&#x27;]},\n",
       "             scoring=&#x27;accuracy&#x27;, verbose=2)</pre><b>In a Jupyter environment, please rerun this cell to show the HTML representation or trust the notebook. <br />On GitHub, the HTML representation is unable to render, please try loading this page with nbviewer.org.</b></div><div class=\"sk-container\" hidden><div class=\"sk-item sk-dashed-wrapped\"><div class=\"sk-label-container\"><div class=\"sk-label sk-toggleable\"><input class=\"sk-toggleable__control sk-hidden--visually\" id=\"sk-estimator-id-8\" type=\"checkbox\" ><label for=\"sk-estimator-id-8\" class=\"sk-toggleable__label sk-toggleable__label-arrow\">GridSearchCV</label><div class=\"sk-toggleable__content\"><pre>GridSearchCV(cv=3, estimator=MLPClassifier(),\n",
       "             param_grid={&#x27;activation&#x27;: [&#x27;identity&#x27;, &#x27;logistic&#x27;, &#x27;tanh&#x27;, &#x27;relu&#x27;],\n",
       "                         &#x27;hidden_layer_sizes&#x27;: [100, 200],\n",
       "                         &#x27;max_iter&#x27;: [200, 250],\n",
       "                         &#x27;solver&#x27;: [&#x27;lbfgs&#x27;, &#x27;sgd&#x27;, &#x27;adam&#x27;]},\n",
       "             scoring=&#x27;accuracy&#x27;, verbose=2)</pre></div></div></div><div class=\"sk-parallel\"><div class=\"sk-parallel-item\"><div class=\"sk-item\"><div class=\"sk-label-container\"><div class=\"sk-label sk-toggleable\"><input class=\"sk-toggleable__control sk-hidden--visually\" id=\"sk-estimator-id-9\" type=\"checkbox\" ><label for=\"sk-estimator-id-9\" class=\"sk-toggleable__label sk-toggleable__label-arrow\">estimator: MLPClassifier</label><div class=\"sk-toggleable__content\"><pre>MLPClassifier()</pre></div></div></div><div class=\"sk-serial\"><div class=\"sk-item\"><div class=\"sk-estimator sk-toggleable\"><input class=\"sk-toggleable__control sk-hidden--visually\" id=\"sk-estimator-id-10\" type=\"checkbox\" ><label for=\"sk-estimator-id-10\" class=\"sk-toggleable__label sk-toggleable__label-arrow\">MLPClassifier</label><div class=\"sk-toggleable__content\"><pre>MLPClassifier()</pre></div></div></div></div></div></div></div></div></div></div>"
      ],
      "text/plain": [
       "GridSearchCV(cv=3, estimator=MLPClassifier(),\n",
       "             param_grid={'activation': ['identity', 'logistic', 'tanh', 'relu'],\n",
       "                         'hidden_layer_sizes': [100, 200],\n",
       "                         'max_iter': [200, 250],\n",
       "                         'solver': ['lbfgs', 'sgd', 'adam']},\n",
       "             scoring='accuracy', verbose=2)"
      ]
     },
     "execution_count": 50,
     "metadata": {},
     "output_type": "execute_result"
    }
   ],
   "source": [
    "# Fit the grid search object to the training data\n",
    "grid_search.fit(X_train, y_train)"
   ]
  },
  {
   "cell_type": "code",
   "execution_count": 51,
   "metadata": {},
   "outputs": [
    {
     "name": "stdout",
     "output_type": "stream",
     "text": [
      "Best hyperparameters: {'activation': 'tanh', 'hidden_layer_sizes': 200, 'max_iter': 250, 'solver': 'adam'}\n",
      "Best score: 0.9227978528164559\n"
     ]
    }
   ],
   "source": [
    "# Print the best hyperparameters and the best score\n",
    "print(\"Best hyperparameters:\", grid_search.best_params_)\n",
    "print(\"Best score:\", grid_search.best_score_)"
   ]
  },
  {
   "cell_type": "code",
   "execution_count": 52,
   "metadata": {},
   "outputs": [
    {
     "data": {
      "text/html": [
       "<style>#sk-container-id-7 {color: black;background-color: white;}#sk-container-id-7 pre{padding: 0;}#sk-container-id-7 div.sk-toggleable {background-color: white;}#sk-container-id-7 label.sk-toggleable__label {cursor: pointer;display: block;width: 100%;margin-bottom: 0;padding: 0.3em;box-sizing: border-box;text-align: center;}#sk-container-id-7 label.sk-toggleable__label-arrow:before {content: \"▸\";float: left;margin-right: 0.25em;color: #696969;}#sk-container-id-7 label.sk-toggleable__label-arrow:hover:before {color: black;}#sk-container-id-7 div.sk-estimator:hover label.sk-toggleable__label-arrow:before {color: black;}#sk-container-id-7 div.sk-toggleable__content {max-height: 0;max-width: 0;overflow: hidden;text-align: left;background-color: #f0f8ff;}#sk-container-id-7 div.sk-toggleable__content pre {margin: 0.2em;color: black;border-radius: 0.25em;background-color: #f0f8ff;}#sk-container-id-7 input.sk-toggleable__control:checked~div.sk-toggleable__content {max-height: 200px;max-width: 100%;overflow: auto;}#sk-container-id-7 input.sk-toggleable__control:checked~label.sk-toggleable__label-arrow:before {content: \"▾\";}#sk-container-id-7 div.sk-estimator input.sk-toggleable__control:checked~label.sk-toggleable__label {background-color: #d4ebff;}#sk-container-id-7 div.sk-label input.sk-toggleable__control:checked~label.sk-toggleable__label {background-color: #d4ebff;}#sk-container-id-7 input.sk-hidden--visually {border: 0;clip: rect(1px 1px 1px 1px);clip: rect(1px, 1px, 1px, 1px);height: 1px;margin: -1px;overflow: hidden;padding: 0;position: absolute;width: 1px;}#sk-container-id-7 div.sk-estimator {font-family: monospace;background-color: #f0f8ff;border: 1px dotted black;border-radius: 0.25em;box-sizing: border-box;margin-bottom: 0.5em;}#sk-container-id-7 div.sk-estimator:hover {background-color: #d4ebff;}#sk-container-id-7 div.sk-parallel-item::after {content: \"\";width: 100%;border-bottom: 1px solid gray;flex-grow: 1;}#sk-container-id-7 div.sk-label:hover label.sk-toggleable__label {background-color: #d4ebff;}#sk-container-id-7 div.sk-serial::before {content: \"\";position: absolute;border-left: 1px solid gray;box-sizing: border-box;top: 0;bottom: 0;left: 50%;z-index: 0;}#sk-container-id-7 div.sk-serial {display: flex;flex-direction: column;align-items: center;background-color: white;padding-right: 0.2em;padding-left: 0.2em;position: relative;}#sk-container-id-7 div.sk-item {position: relative;z-index: 1;}#sk-container-id-7 div.sk-parallel {display: flex;align-items: stretch;justify-content: center;background-color: white;position: relative;}#sk-container-id-7 div.sk-item::before, #sk-container-id-7 div.sk-parallel-item::before {content: \"\";position: absolute;border-left: 1px solid gray;box-sizing: border-box;top: 0;bottom: 0;left: 50%;z-index: -1;}#sk-container-id-7 div.sk-parallel-item {display: flex;flex-direction: column;z-index: 1;position: relative;background-color: white;}#sk-container-id-7 div.sk-parallel-item:first-child::after {align-self: flex-end;width: 50%;}#sk-container-id-7 div.sk-parallel-item:last-child::after {align-self: flex-start;width: 50%;}#sk-container-id-7 div.sk-parallel-item:only-child::after {width: 0;}#sk-container-id-7 div.sk-dashed-wrapped {border: 1px dashed gray;margin: 0 0.4em 0.5em 0.4em;box-sizing: border-box;padding-bottom: 0.4em;background-color: white;}#sk-container-id-7 div.sk-label label {font-family: monospace;font-weight: bold;display: inline-block;line-height: 1.2em;}#sk-container-id-7 div.sk-label-container {text-align: center;}#sk-container-id-7 div.sk-container {/* jupyter's `normalize.less` sets `[hidden] { display: none; }` but bootstrap.min.css set `[hidden] { display: none !important; }` so we also need the `!important` here to be able to override the default hidden behavior on the sphinx rendered scikit-learn.org. See: https://github.com/scikit-learn/scikit-learn/issues/21755 */display: inline-block !important;position: relative;}#sk-container-id-7 div.sk-text-repr-fallback {display: none;}</style><div id=\"sk-container-id-7\" class=\"sk-top-container\"><div class=\"sk-text-repr-fallback\"><pre>MLPClassifier(activation=&#x27;tanh&#x27;, hidden_layer_sizes=200, max_iter=250)</pre><b>In a Jupyter environment, please rerun this cell to show the HTML representation or trust the notebook. <br />On GitHub, the HTML representation is unable to render, please try loading this page with nbviewer.org.</b></div><div class=\"sk-container\" hidden><div class=\"sk-item\"><div class=\"sk-estimator sk-toggleable\"><input class=\"sk-toggleable__control sk-hidden--visually\" id=\"sk-estimator-id-11\" type=\"checkbox\" checked><label for=\"sk-estimator-id-11\" class=\"sk-toggleable__label sk-toggleable__label-arrow\">MLPClassifier</label><div class=\"sk-toggleable__content\"><pre>MLPClassifier(activation=&#x27;tanh&#x27;, hidden_layer_sizes=200, max_iter=250)</pre></div></div></div></div></div>"
      ],
      "text/plain": [
       "MLPClassifier(activation='tanh', hidden_layer_sizes=200, max_iter=250)"
      ]
     },
     "execution_count": 52,
     "metadata": {},
     "output_type": "execute_result"
    }
   ],
   "source": [
    "# Re-train the model with the best hyperparameters\n",
    "best_clf = grid_search.best_estimator_\n",
    "best_clf.fit(X_train, y_train)"
   ]
  },
  {
   "cell_type": "code",
   "execution_count": 53,
   "metadata": {},
   "outputs": [
    {
     "name": "stdout",
     "output_type": "stream",
     "text": [
      "Misclassified examples: 47\n"
     ]
    }
   ],
   "source": [
    "y_pred = best_clf.predict(X_test)\n",
    "print('Misclassified examples: %d' % (y_test != y_pred).sum())"
   ]
  },
  {
   "cell_type": "code",
   "execution_count": 54,
   "metadata": {},
   "outputs": [
    {
     "name": "stdout",
     "output_type": "stream",
     "text": [
      "Testing accuracy: 0.9142335766423357\n"
     ]
    }
   ],
   "source": [
    " # Test the model with the best hyperparameters on the testing data\n",
    "accuracy = best_clf.score(X_test, y_test)\n",
    "print(\"Testing accuracy:\", accuracy)"
   ]
  },
  {
   "cell_type": "code",
   "execution_count": 55,
   "metadata": {},
   "outputs": [
    {
     "data": {
      "image/png": "[encoded data removed]",
      "text/plain": [
       "<Figure size 1080x720 with 2 Axes>"
      ]
     },
     "metadata": {},
     "output_type": "display_data"
    }
   ],
   "source": [
    "cm = confusion_matrix(y_test,y_pred)\n",
    "\n",
    "sns.heatmap(cm, annot=True, fmt='g', xticklabels=['1','2','3'], yticklabels=['1','2','3'])\n",
    "\n",
    "plt.ylabel('Prediction',fontsize=13)\n",
    "plt.xlabel('Actual',fontsize=13)\n",
    "plt.title('Confusion Matrix',fontsize=17)\n",
    "plt.show()"
   ]
  }
 ],
 "metadata": {
  "kernelspec": {
   "display_name": "Python 3",
   "language": "python",
   "name": "python3"
  },
  "language_info": {
   "codemirror_mode": {
    "name": "ipython",
    "version": 3
   },
   "file_extension": ".py",
   "mimetype": "text/x-python",
   "name": "python",
   "nbconvert_exporter": "python",
   "pygments_lexer": "ipython3",
   "version": "3.10.0"
  },
  "orig_nbformat": 4
 },
 "nbformat": 4,
 "nbformat_minor": 2
}
