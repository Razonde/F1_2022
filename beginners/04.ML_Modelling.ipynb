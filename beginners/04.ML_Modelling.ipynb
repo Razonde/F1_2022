{
 "cells": [
  {
   "attachments": {},
   "cell_type": "markdown",
   "metadata": {},
   "source": [
    "# Test For The Best Machine Learning Algorithm For Prediction"
   ]
  },
  {
   "attachments": {},
   "cell_type": "markdown",
   "metadata": {},
   "source": [
    "This notebook takes about 40 minutes to run, but we've already run it and saved the data for you. Please read through it, though, so that you understand how we came to the conclusions we'll use moving forward.\n",
    "\n",
    "## Six Algorithms\n",
    "\n",
    "We're going to compare six different algorithms to determine the best one to produce an accurate model for our predictions.\n",
    "\n",
    "### Logistic Regression\n",
    "\n",
    "Logistic Regression (LR) is a technique borrowed from the field of statistics. It is the go-to method for binary classification problems (problems with two class values). \n",
    "\n",
    "![](./docs/logisticfunction.png)\n",
    "\n",
    "Logistic Regression is named for the function used at the core of the method: the logistic function. The logistic function is a probablistic method used to determine whether or not the driver will be the winner. Logistic Regression predicts probabilities.\n",
    "\n",
    "### Decision Tree\n",
    "\n",
    "A tree has many analogies in real life, and it turns out that it has influenced a wide area of machine learning, covering both classification and regression. In decision analysis, a decision tree can be used to visually and explicitly represent decisions and decision making.\n",
    "\n",
    "![](./docs/decisiontree.png)\n",
    "\n",
    "This methodology is more commonly known as a \"learning decision tree\" from data, and the above tree is called a Classification tree because the goal is to classify a driver as the winner or not.\n",
    "\n",
    "### Random Forest\n",
    "\n",
    "Random forest is a supervised learning algorithm. The \"forest\" it builds is an **ensemble of decision trees**, usually trained with the “bagging” method, a combination of learning models which increases the accuracy of the result.\n",
    "\n",
    "A random forest eradicates the limitations of a decision tree algorithm. It reduces the overfitting of datasets and increases precision. It generates predictions without requiring many configurations.\n",
    "\n",
    "![](./docs/randomforest.png)\n",
    "\n",
    "Here's the difference between the Decision Tree and Random Forest methods:\n",
    "\n",
    "![](./docs/treefortheforest.jpg)\n",
    "\n",
    "### Support Vector Machine Algorithm (SVC)\n",
    "\n",
    "Support Vector Machines (SVMs) are a set of supervised learning methods used for classification, regression and detection of outliers.\n",
    "\n",
    "The advantages of support vector machines are:\n",
    "\n",
    "- Effective in high dimensional spaces\n",
    "- Still effective in cases where number of dimensions is greater than the number of samples\n",
    "- Uses a subset of training points in the decision function (called support vectors), so it is also memory efficient\n",
    "- Versatile: different kernel functions can be specified for the decision function. Common kernels are provided, but it is also possible to specify custom kernels\n",
    "\n",
    "The objective of a SVC (Support Vector Classifier) is to fit to the data you provide, returning a \"best fit\" hyperplane that divides, or categorizes, your data.\n",
    "\n",
    "### Gaussian Naive Bayes Algorithm\n",
    "\n",
    "Naive Bayes is a classification algorithm for binary (two-class) and multi-class classification problems. The technique is easiest to understand when described using binary or categorical input values. The representation used for naive Bayes is probabilities.\n",
    "\n",
    "A list of probabilities is stored to a file for a learned Naive Bayes model. This includes:\n",
    "\n",
    "- **Class Probabilities:** The probabilities of each class in the training dataset.\n",
    "- **Conditional Probabilities:** The conditional probabilities of each input value given each class value.\n",
    "\n",
    "Naive Bayes can be extended to real-value attributes, most commonly by assuming a Gaussian distribution. This extension of Naive Bayes is called Gaussian Naive Bayes. Other functions can be used to estimate the distribution of the data, but the Gaussian (or normal distribution) is the easiest to work with because you only need to estimate the mean and the standard deviation from your training data.\n",
    "\n",
    "### k Nearest Neighbor Algorithm (kNN)\n",
    "\n",
    "The k-Nearest Neighbors (KNN) algorithm is a simple, supervised machine learning algorithm that can be used to solve both classification and regression problems.\n",
    "\n",
    "kNN works by finding the distances between a query and all of the examples in the data, selecting the specified number examples (k) closest to the query, then voting for the most frequent label (in the case of classification) or averages the labels (in the case of regression).\n",
    "\n",
    "The kNN algorithm assumes the similarity between the new case/data and available cases, and puts the new case into the category that is most similar to the available categories.\n",
    "\n",
    "![](./docs/knn.png)\n",
    "\n",
    "## Analyzing the Data\n",
    "\n",
    "### Feature Importance\n",
    "\n",
    "Another great quality of the random forest algorithm is that it's easy to measure the relative importance of each feature to the prediction.\n",
    "\n",
    "The Scikit-learn Python Library provides a great tool for this which measures a feature's importance by looking at how much the tree nodes that use that feature reduce impurity across all trees in the forest. It computes this score automatically for each feature after training, and scales the results so the sum of all importance is equal to one.\n",
    "\n",
    "### Data Visualization When Building a Model\n",
    "\n",
    "How do you visualize the influence of the data? How do you frame the problem?\n",
    "\n",
    "An important tool in the data scientist's toolkit is the power to visualize data using several excellent libraries such as Seaborn or MatPlotLib. Representing your data visually might allow you to uncover hidden correlations that you can leverage. Your visualizations might also help you to uncover bias or unbalanced data.\n",
    "\n",
    "![](./docs/visualization.png)\n",
    "\n",
    "### Splitting the Dataset\n",
    "\n",
    "Prior to training, you need to split your dataset into two or more parts of unequal size that still represent the data well. \n",
    "\n",
    "1. Training. This part of the dataset is fit to your model to train it. This set constitutes the majority of the original dataset.\n",
    "2. Testing. A test dataset is an independent group of data, often a subset of the original data, that you use to confirm the performance of the model you built.\n",
    "3. Validating. A validation set is a smaller independent group of examples that you use to tune the model's hyperparameters, or architecture, to improve the model. Depending on your data's size and the question you are asking, you might not need to build this third set.\n",
    "\n",
    "## Building the Model\n",
    "\n",
    "Using your training data, your goal is to build a model, or a statistical representation of your data, using various algorithms to train it. Training a model exposes it to data and allows it to make assumptions about perceived patterns it discovers, validates, and accepts or rejects.\n",
    "\n",
    "\n",
    "### Decide on a Training Method\n",
    "\n",
    "Depending on your question and the nature of your data, you will choose a method to train it. Stepping through Scikit-learn's documentation, you can explore many ways to train a model. Depending on the results you get, you might have to try several different methods to build the best model. You are likely to go through a process whereby data scientists evaluate the performance of a model by feeding it unseen data, checking for accuracy, bias, and other quality-degrading issues, and selecting the most appropriate training method for the task at hand.\n",
    "\n",
    "### Train a Model\n",
    "\n",
    "Armed with your training data, you are ready to \"fit\" it to create a model. In many ML libraries you will find the code 'model.fit' - it is at this time that you send in your data as an array of values (usually 'X') and a feature variable (usually 'y').\n",
    "\n",
    "### Evaluate the Model\n",
    "\n",
    "Once the training process is complete, you will be able to evaluate the model's quality by using test data to gauge its performance. This data is a subset of the original data that the model has not previously analyzed. You can print out a table of metrics about your model's quality.\n",
    "\n",
    "#### Model Fitting\n",
    "\n",
    "In the Machine Learning context, model fitting refers to the accuracy of the model's underlying function as it attempts to analyze data with which it is not familiar.\n",
    "\n",
    "#### Underfitting and Overfitting\n",
    "\n",
    "Underfitting and overfitting are common problems that degrade the quality of the model, as the model either doesn't fit well enough, or it fits too well. This causes the model to make predictions either too closely aligned or too loosely aligned with its training data. An overfit model predicts training data too well because it has learned the data's details and noise too well. An underfit model is not accurate as it can neither accurately analyze its training data nor data it has not yet 'seen'.\n",
    "\n",
    "![](./docs/overfit.png)\n",
    "\n",
    "Let's test out some algorithms to choose our path for modelling our predictions.\n",
    "\n"
   ]
  },
  {
   "cell_type": "code",
   "execution_count": 1,
   "metadata": {},
   "outputs": [],
   "source": [
    "import warnings\n",
    "warnings.filterwarnings(\"ignore\")"
   ]
  },
  {
   "cell_type": "code",
   "execution_count": 2,
   "metadata": {},
   "outputs": [],
   "source": [
    "import time\n",
    "start = time.time()"
   ]
  },
  {
   "cell_type": "code",
   "execution_count": 3,
   "metadata": {
    "ExecuteTime": {
     "end_time": "2020-06-03T17:56:46.083156Z",
     "start_time": "2020-06-03T17:56:45.184584Z"
    }
   },
   "outputs": [],
   "source": [
    "import pandas as pd\n",
    "import numpy as np\n",
    "import matplotlib.pyplot as plt\n",
    "import seaborn as sns\n",
    "import pickle\n",
    "from sklearn.metrics import confusion_matrix, precision_score\n",
    "from sklearn.metrics import accuracy_score\n",
    "from sklearn.preprocessing import StandardScaler,LabelEncoder,OneHotEncoder\n",
    "from sklearn.model_selection import cross_val_score,StratifiedKFold,RandomizedSearchCV\n",
    "from sklearn.linear_model import LogisticRegression\n",
    "from sklearn.ensemble import RandomForestClassifier, RandomForestRegressor\n",
    "from sklearn.svm import SVC\n",
    "from sklearn.tree import DecisionTreeClassifier\n",
    "from sklearn.neighbors import KNeighborsClassifier\n",
    "from sklearn.naive_bayes import GaussianNB\n",
    "from sklearn.metrics import confusion_matrix,precision_score,f1_score,recall_score\n",
    "from sklearn.neural_network import MLPClassifier, MLPRegressor\n",
    "plt.style.use('seaborn')\n",
    "\n",
    "np.set_printoptions(precision=4)"
   ]
  },
  {
   "cell_type": "code",
   "execution_count": 4,
   "metadata": {
    "ExecuteTime": {
     "end_time": "2020-06-03T17:56:46.866967Z",
     "start_time": "2020-06-03T17:56:46.697643Z"
    }
   },
   "outputs": [],
   "source": [
    "data = pd.read_csv('./data_f1/data_filtered.csv')"
   ]
  },
  {
   "cell_type": "code",
   "execution_count": 5,
   "metadata": {
    "ExecuteTime": {
     "end_time": "2020-06-03T17:56:47.463809Z",
     "start_time": "2020-06-03T17:56:47.426867Z"
    }
   },
   "outputs": [
    {
     "data": {
      "text/html": [
       "<div>\n",
       "<style scoped>\n",
       "    .dataframe tbody tr th:only-of-type {\n",
       "        vertical-align: middle;\n",
       "    }\n",
       "\n",
       "    .dataframe tbody tr th {\n",
       "        vertical-align: top;\n",
       "    }\n",
       "\n",
       "    .dataframe thead th {\n",
       "        text-align: right;\n",
       "    }\n",
       "</style>\n",
       "<table border=\"1\" class=\"dataframe\">\n",
       "  <thead>\n",
       "    <tr style=\"text-align: right;\">\n",
       "      <th></th>\n",
       "      <th>year</th>\n",
       "      <th>date</th>\n",
       "      <th>quali_pos</th>\n",
       "      <th>statusId</th>\n",
       "      <th>position</th>\n",
       "      <th>dob</th>\n",
       "      <th>driver_nationality</th>\n",
       "      <th>constructor</th>\n",
       "      <th>constructor_nationality</th>\n",
       "      <th>GP_name</th>\n",
       "      <th>country</th>\n",
       "      <th>driver</th>\n",
       "      <th>age_at_gp_in_days</th>\n",
       "      <th>driver_home</th>\n",
       "      <th>constructor_home</th>\n",
       "      <th>driver_dnf</th>\n",
       "      <th>constructor_dnf</th>\n",
       "    </tr>\n",
       "  </thead>\n",
       "  <tbody>\n",
       "    <tr>\n",
       "      <th>0</th>\n",
       "      <td>2011</td>\n",
       "      <td>2011-03-27</td>\n",
       "      <td>18</td>\n",
       "      <td>11</td>\n",
       "      <td>18</td>\n",
       "      <td>1977-05-10</td>\n",
       "      <td>Ger</td>\n",
       "      <td>Alpine F1</td>\n",
       "      <td>Fre</td>\n",
       "      <td>Albert Park Grand Prix Circuit</td>\n",
       "      <td>Aus</td>\n",
       "      <td>Nick Heidfeld</td>\n",
       "      <td>12374</td>\n",
       "      <td>0</td>\n",
       "      <td>0</td>\n",
       "      <td>0</td>\n",
       "      <td>1</td>\n",
       "    </tr>\n",
       "    <tr>\n",
       "      <th>1</th>\n",
       "      <td>2010</td>\n",
       "      <td>2010-03-28</td>\n",
       "      <td>9</td>\n",
       "      <td>1</td>\n",
       "      <td>9</td>\n",
       "      <td>1984-12-07</td>\n",
       "      <td>Pol</td>\n",
       "      <td>Alpine F1</td>\n",
       "      <td>Fre</td>\n",
       "      <td>Albert Park Grand Prix Circuit</td>\n",
       "      <td>Aus</td>\n",
       "      <td>Robert Kubica</td>\n",
       "      <td>9242</td>\n",
       "      <td>0</td>\n",
       "      <td>0</td>\n",
       "      <td>0</td>\n",
       "      <td>0</td>\n",
       "    </tr>\n",
       "    <tr>\n",
       "      <th>2</th>\n",
       "      <td>2017</td>\n",
       "      <td>2017-03-26</td>\n",
       "      <td>11</td>\n",
       "      <td>11</td>\n",
       "      <td>12</td>\n",
       "      <td>1987-08-19</td>\n",
       "      <td>Ger</td>\n",
       "      <td>Alpine F1</td>\n",
       "      <td>Fre</td>\n",
       "      <td>Albert Park Grand Prix Circuit</td>\n",
       "      <td>Aus</td>\n",
       "      <td>Nico Hülkenberg</td>\n",
       "      <td>10812</td>\n",
       "      <td>0</td>\n",
       "      <td>0</td>\n",
       "      <td>0</td>\n",
       "      <td>1</td>\n",
       "    </tr>\n",
       "    <tr>\n",
       "      <th>3</th>\n",
       "      <td>2018</td>\n",
       "      <td>2018-03-25</td>\n",
       "      <td>7</td>\n",
       "      <td>1</td>\n",
       "      <td>8</td>\n",
       "      <td>1987-08-19</td>\n",
       "      <td>Ger</td>\n",
       "      <td>Alpine F1</td>\n",
       "      <td>Fre</td>\n",
       "      <td>Albert Park Grand Prix Circuit</td>\n",
       "      <td>Aus</td>\n",
       "      <td>Nico Hülkenberg</td>\n",
       "      <td>11176</td>\n",
       "      <td>0</td>\n",
       "      <td>0</td>\n",
       "      <td>0</td>\n",
       "      <td>0</td>\n",
       "    </tr>\n",
       "    <tr>\n",
       "      <th>4</th>\n",
       "      <td>2019</td>\n",
       "      <td>2019-03-17</td>\n",
       "      <td>11</td>\n",
       "      <td>11</td>\n",
       "      <td>11</td>\n",
       "      <td>1987-08-19</td>\n",
       "      <td>Ger</td>\n",
       "      <td>Alpine F1</td>\n",
       "      <td>Fre</td>\n",
       "      <td>Albert Park Grand Prix Circuit</td>\n",
       "      <td>Aus</td>\n",
       "      <td>Nico Hülkenberg</td>\n",
       "      <td>11533</td>\n",
       "      <td>0</td>\n",
       "      <td>0</td>\n",
       "      <td>0</td>\n",
       "      <td>1</td>\n",
       "    </tr>\n",
       "  </tbody>\n",
       "</table>\n",
       "</div>"
      ],
      "text/plain": [
       "   year        date  quali_pos  statusId  position         dob  \\\n",
       "0  2011  2011-03-27         18        11        18  1977-05-10   \n",
       "1  2010  2010-03-28          9         1         9  1984-12-07   \n",
       "2  2017  2017-03-26         11        11        12  1987-08-19   \n",
       "3  2018  2018-03-25          7         1         8  1987-08-19   \n",
       "4  2019  2019-03-17         11        11        11  1987-08-19   \n",
       "\n",
       "  driver_nationality constructor constructor_nationality  \\\n",
       "0                Ger   Alpine F1                     Fre   \n",
       "1                Pol   Alpine F1                     Fre   \n",
       "2                Ger   Alpine F1                     Fre   \n",
       "3                Ger   Alpine F1                     Fre   \n",
       "4                Ger   Alpine F1                     Fre   \n",
       "\n",
       "                          GP_name country           driver  age_at_gp_in_days  \\\n",
       "0  Albert Park Grand Prix Circuit     Aus    Nick Heidfeld              12374   \n",
       "1  Albert Park Grand Prix Circuit     Aus    Robert Kubica               9242   \n",
       "2  Albert Park Grand Prix Circuit     Aus  Nico Hülkenberg              10812   \n",
       "3  Albert Park Grand Prix Circuit     Aus  Nico Hülkenberg              11176   \n",
       "4  Albert Park Grand Prix Circuit     Aus  Nico Hülkenberg              11533   \n",
       "\n",
       "   driver_home  constructor_home  driver_dnf  constructor_dnf  \n",
       "0            0                 0           0                1  \n",
       "1            0                 0           0                0  \n",
       "2            0                 0           0                1  \n",
       "3            0                 0           0                0  \n",
       "4            0                 0           0                1  "
      ]
     },
     "execution_count": 5,
     "metadata": {},
     "output_type": "execute_result"
    }
   ],
   "source": [
    "data.head()"
   ]
  },
  {
   "cell_type": "code",
   "execution_count": 6,
   "metadata": {},
   "outputs": [
    {
     "data": {
      "text/plain": [
       "5483"
      ]
     },
     "execution_count": 6,
     "metadata": {},
     "output_type": "execute_result"
    }
   ],
   "source": [
    "len(data)"
   ]
  },
  {
   "cell_type": "code",
   "execution_count": 7,
   "metadata": {},
   "outputs": [],
   "source": [
    "dnf_by_driver = data.groupby('driver').sum()['driver_dnf']\n",
    "driver_race_entered = data.groupby('driver').count()['driver_dnf']\n",
    "driver_dnf_ratio = (dnf_by_driver/driver_race_entered)\n",
    "driver_confidence = 1-driver_dnf_ratio\n",
    "driver_confidence_dict = dict(zip(driver_confidence.index,driver_confidence))"
   ]
  },
  {
   "cell_type": "code",
   "execution_count": 8,
   "metadata": {},
   "outputs": [
    {
     "data": {
      "text/plain": [
       "{'Adrian Sutil': 0.868421052631579,\n",
       " 'Alexander Albon': 0.9310344827586207,\n",
       " 'Alexander Rossi': 1.0,\n",
       " 'André Lotterer': 1.0,\n",
       " 'Antonio Giovinazzi': 0.9180327868852459,\n",
       " 'Brendon Hartley': 0.88,\n",
       " 'Bruno Senna': 0.8260869565217391,\n",
       " 'Carlos Sainz': 0.9012345679012346,\n",
       " 'Charles Leclerc': 0.8932038834951457,\n",
       " 'Charles Pic': 0.9487179487179487,\n",
       " 'Christian Klien': 1.0,\n",
       " 'Daniel Ricciardo': 0.9523809523809523,\n",
       " 'Daniil Kvyat': 0.9196428571428571,\n",
       " 'Esteban Gutiérrez': 0.847457627118644,\n",
       " 'Esteban Ocon': 0.9545454545454546,\n",
       " 'Felipe Massa': 0.9161290322580645,\n",
       " 'Felipe Nasr': 0.925,\n",
       " 'Fernando Alonso': 0.935483870967742,\n",
       " 'George Russell': 0.926829268292683,\n",
       " 'Giedo van der Garde': 0.8421052631578947,\n",
       " 'Guanyu Zhou': 0.9090909090909091,\n",
       " 'Heikki Kovalainen': 0.95,\n",
       " 'Jack Aitken': 1.0,\n",
       " 'Jaime Alguersuari': 0.9210526315789473,\n",
       " 'Jarno Trulli': 0.972972972972973,\n",
       " 'Jean-Éric Vergne': 0.9137931034482758,\n",
       " 'Jenson Button': 0.9407407407407408,\n",
       " 'Jolyon Palmer': 0.8571428571428572,\n",
       " 'Jules Bianchi': 0.9117647058823529,\n",
       " \"Jérôme d'Ambrosio\": 0.95,\n",
       " 'Kamui Kobayashi': 0.8356164383561644,\n",
       " 'Karun Chandhok': 0.8181818181818181,\n",
       " 'Kevin Magnussen': 0.9290780141843972,\n",
       " 'Kimi Räikkönen': 0.9487179487179487,\n",
       " 'Lance Stroll': 0.8934426229508197,\n",
       " 'Lando Norris': 0.9512195121951219,\n",
       " 'Lewis Hamilton': 0.9457364341085271,\n",
       " 'Lucas di Grassi': 0.9473684210526316,\n",
       " 'Marcus Ericsson': 0.875,\n",
       " 'Mark Webber': 0.935064935064935,\n",
       " 'Max Chilton': 0.9428571428571428,\n",
       " 'Max Verstappen': 0.9079754601226994,\n",
       " 'Michael Schumacher': 0.8771929824561404,\n",
       " 'Mick Schumacher': 0.9302325581395349,\n",
       " 'Narain Karthikeyan': 0.8214285714285714,\n",
       " 'Nicholas Latifi': 0.819672131147541,\n",
       " 'Nick Heidfeld': 0.8,\n",
       " 'Nico Hülkenberg': 0.9016393442622951,\n",
       " 'Nico Rosberg': 0.9485294117647058,\n",
       " 'Nikita Mazepin': 0.8636363636363636,\n",
       " 'Nyck de Vries': 1.0,\n",
       " 'Pascal Wehrlein': 0.8461538461538461,\n",
       " 'Pastor Maldonado': 0.8229166666666666,\n",
       " 'Paul di Resta': 0.864406779661017,\n",
       " 'Pedro de la Rosa': 0.8571428571428572,\n",
       " 'Pierre Gasly': 0.9345794392523364,\n",
       " 'Pietro Fittipaldi': 1.0,\n",
       " 'Rio Haryanto': 0.8333333333333334,\n",
       " 'Robert Kubica': 0.9761904761904762,\n",
       " 'Roberto Merhi': 0.9090909090909091,\n",
       " 'Romain Grosjean': 0.8505747126436781,\n",
       " 'Rubens Barrichello': 0.972972972972973,\n",
       " 'Sakon Yamamoto': 1.0,\n",
       " 'Sebastian Vettel': 0.9453125,\n",
       " 'Sergey Sirotkin': 0.9523809523809523,\n",
       " 'Sergio Pérez': 0.9364406779661016,\n",
       " 'Stoffel Vandoorne': 0.9047619047619048,\n",
       " 'Sébastien Buemi': 0.868421052631579,\n",
       " 'Timo Glock': 0.9122807017543859,\n",
       " 'Valtteri Bottas': 0.9502487562189055,\n",
       " 'Vitaly Petrov': 0.8793103448275862,\n",
       " 'Vitantonio Liuzzi': 0.7837837837837838,\n",
       " 'Will Stevens': 1.0,\n",
       " 'Yuki Tsunoda': 0.9090909090909091}"
      ]
     },
     "execution_count": 8,
     "metadata": {},
     "output_type": "execute_result"
    }
   ],
   "source": [
    "driver_confidence_dict"
   ]
  },
  {
   "cell_type": "code",
   "execution_count": 9,
   "metadata": {},
   "outputs": [],
   "source": [
    "dnf_by_constructor = data.groupby('constructor').sum()['constructor_dnf']\n",
    "constructor_race_entered = data.groupby('constructor').count()['constructor_dnf']\n",
    "constructor_dnf_ratio = (dnf_by_constructor/constructor_race_entered)\n",
    "constructor_reliability = 1-constructor_dnf_ratio\n",
    "constructor_reliability_dict = dict(zip(constructor_reliability.index,constructor_reliability))"
   ]
  },
  {
   "cell_type": "code",
   "execution_count": 10,
   "metadata": {},
   "outputs": [
    {
     "data": {
      "text/plain": [
       "{'Alfa Romeo': 0.4260700389105059,\n",
       " 'AlphaTauri': 0.483495145631068,\n",
       " 'Alpine F1': 0.5466926070038911,\n",
       " 'Aston Martin': 0.6170212765957447,\n",
       " 'Caterham': 0.1785714285714286,\n",
       " 'Ferrari': 0.8803088803088803,\n",
       " 'HRT': 0.15652173913043477,\n",
       " 'Haas F1 Team': 0.36585365853658536,\n",
       " 'Lotus': 0.07894736842105265,\n",
       " 'Manor Marussia': 0.12121212121212122,\n",
       " 'Marussia': 0.16666666666666663,\n",
       " 'McLaren': 0.6233009708737864,\n",
       " 'Mercedes': 0.8916827852998066,\n",
       " 'Red Bull': 0.8430232558139534,\n",
       " 'Virgin': 0.09210526315789469,\n",
       " 'Williams': 0.4874274661508704}"
      ]
     },
     "execution_count": 10,
     "metadata": {},
     "output_type": "execute_result"
    }
   ],
   "source": [
    "constructor_reliability_dict"
   ]
  },
  {
   "cell_type": "code",
   "execution_count": 11,
   "metadata": {},
   "outputs": [],
   "source": [
    "data['driver_confidence'] = data['driver'].apply(lambda x:driver_confidence_dict[x])\n",
    "data['constructor_reliability'] = data['constructor'].apply(lambda x:constructor_reliability_dict[x])\n",
    "#removing retired drivers and constructors\n",
    "active_constructors = ['Alpine F1', 'Williams', 'McLaren', 'Ferrari', 'Mercedes',\n",
    "                       'AlphaTauri', 'Aston Martin', 'Alfa Romeo', 'Red Bull',\n",
    "                       'Haas F1 Team']\n",
    "active_drivers = ['Daniel Ricciardo', 'Mick Schumacher', 'Carlos Sainz',\n",
    "                  'Valtteri Bottas', 'Lance Stroll', 'George Russell',\n",
    "                  'Lando Norris', 'Sebastian Vettel', 'Kimi Räikkönen',\n",
    "                  'Charles Leclerc', 'Lewis Hamilton', 'Yuki Tsunoda',\n",
    "                  'Max Verstappen', 'Pierre Gasly', 'Fernando Alonso',\n",
    "                  'Sergio Pérez', 'Esteban Ocon', 'Antonio Giovinazzi',\n",
    "                  'Nikita Mazepin','Nicholas Latifi']\n",
    "data['active_driver'] = data['driver'].apply(lambda x: int(x in active_drivers))\n",
    "data['active_constructor'] = data['constructor'].apply(lambda x: int(x in active_constructors))"
   ]
  },
  {
   "cell_type": "code",
   "execution_count": 12,
   "metadata": {},
   "outputs": [
    {
     "data": {
      "text/html": [
       "<div>\n",
       "<style scoped>\n",
       "    .dataframe tbody tr th:only-of-type {\n",
       "        vertical-align: middle;\n",
       "    }\n",
       "\n",
       "    .dataframe tbody tr th {\n",
       "        vertical-align: top;\n",
       "    }\n",
       "\n",
       "    .dataframe thead th {\n",
       "        text-align: right;\n",
       "    }\n",
       "</style>\n",
       "<table border=\"1\" class=\"dataframe\">\n",
       "  <thead>\n",
       "    <tr style=\"text-align: right;\">\n",
       "      <th></th>\n",
       "      <th>year</th>\n",
       "      <th>date</th>\n",
       "      <th>quali_pos</th>\n",
       "      <th>statusId</th>\n",
       "      <th>position</th>\n",
       "      <th>dob</th>\n",
       "      <th>driver_nationality</th>\n",
       "      <th>constructor</th>\n",
       "      <th>constructor_nationality</th>\n",
       "      <th>GP_name</th>\n",
       "      <th>...</th>\n",
       "      <th>driver</th>\n",
       "      <th>age_at_gp_in_days</th>\n",
       "      <th>driver_home</th>\n",
       "      <th>constructor_home</th>\n",
       "      <th>driver_dnf</th>\n",
       "      <th>constructor_dnf</th>\n",
       "      <th>driver_confidence</th>\n",
       "      <th>constructor_reliability</th>\n",
       "      <th>active_driver</th>\n",
       "      <th>active_constructor</th>\n",
       "    </tr>\n",
       "  </thead>\n",
       "  <tbody>\n",
       "    <tr>\n",
       "      <th>0</th>\n",
       "      <td>2011</td>\n",
       "      <td>2011-03-27</td>\n",
       "      <td>18</td>\n",
       "      <td>11</td>\n",
       "      <td>18</td>\n",
       "      <td>1977-05-10</td>\n",
       "      <td>Ger</td>\n",
       "      <td>Alpine F1</td>\n",
       "      <td>Fre</td>\n",
       "      <td>Albert Park Grand Prix Circuit</td>\n",
       "      <td>...</td>\n",
       "      <td>Nick Heidfeld</td>\n",
       "      <td>12374</td>\n",
       "      <td>0</td>\n",
       "      <td>0</td>\n",
       "      <td>0</td>\n",
       "      <td>1</td>\n",
       "      <td>0.800000</td>\n",
       "      <td>0.546693</td>\n",
       "      <td>0</td>\n",
       "      <td>1</td>\n",
       "    </tr>\n",
       "    <tr>\n",
       "      <th>1</th>\n",
       "      <td>2010</td>\n",
       "      <td>2010-03-28</td>\n",
       "      <td>9</td>\n",
       "      <td>1</td>\n",
       "      <td>9</td>\n",
       "      <td>1984-12-07</td>\n",
       "      <td>Pol</td>\n",
       "      <td>Alpine F1</td>\n",
       "      <td>Fre</td>\n",
       "      <td>Albert Park Grand Prix Circuit</td>\n",
       "      <td>...</td>\n",
       "      <td>Robert Kubica</td>\n",
       "      <td>9242</td>\n",
       "      <td>0</td>\n",
       "      <td>0</td>\n",
       "      <td>0</td>\n",
       "      <td>0</td>\n",
       "      <td>0.976190</td>\n",
       "      <td>0.546693</td>\n",
       "      <td>0</td>\n",
       "      <td>1</td>\n",
       "    </tr>\n",
       "    <tr>\n",
       "      <th>2</th>\n",
       "      <td>2017</td>\n",
       "      <td>2017-03-26</td>\n",
       "      <td>11</td>\n",
       "      <td>11</td>\n",
       "      <td>12</td>\n",
       "      <td>1987-08-19</td>\n",
       "      <td>Ger</td>\n",
       "      <td>Alpine F1</td>\n",
       "      <td>Fre</td>\n",
       "      <td>Albert Park Grand Prix Circuit</td>\n",
       "      <td>...</td>\n",
       "      <td>Nico Hülkenberg</td>\n",
       "      <td>10812</td>\n",
       "      <td>0</td>\n",
       "      <td>0</td>\n",
       "      <td>0</td>\n",
       "      <td>1</td>\n",
       "      <td>0.901639</td>\n",
       "      <td>0.546693</td>\n",
       "      <td>0</td>\n",
       "      <td>1</td>\n",
       "    </tr>\n",
       "    <tr>\n",
       "      <th>3</th>\n",
       "      <td>2018</td>\n",
       "      <td>2018-03-25</td>\n",
       "      <td>7</td>\n",
       "      <td>1</td>\n",
       "      <td>8</td>\n",
       "      <td>1987-08-19</td>\n",
       "      <td>Ger</td>\n",
       "      <td>Alpine F1</td>\n",
       "      <td>Fre</td>\n",
       "      <td>Albert Park Grand Prix Circuit</td>\n",
       "      <td>...</td>\n",
       "      <td>Nico Hülkenberg</td>\n",
       "      <td>11176</td>\n",
       "      <td>0</td>\n",
       "      <td>0</td>\n",
       "      <td>0</td>\n",
       "      <td>0</td>\n",
       "      <td>0.901639</td>\n",
       "      <td>0.546693</td>\n",
       "      <td>0</td>\n",
       "      <td>1</td>\n",
       "    </tr>\n",
       "    <tr>\n",
       "      <th>4</th>\n",
       "      <td>2019</td>\n",
       "      <td>2019-03-17</td>\n",
       "      <td>11</td>\n",
       "      <td>11</td>\n",
       "      <td>11</td>\n",
       "      <td>1987-08-19</td>\n",
       "      <td>Ger</td>\n",
       "      <td>Alpine F1</td>\n",
       "      <td>Fre</td>\n",
       "      <td>Albert Park Grand Prix Circuit</td>\n",
       "      <td>...</td>\n",
       "      <td>Nico Hülkenberg</td>\n",
       "      <td>11533</td>\n",
       "      <td>0</td>\n",
       "      <td>0</td>\n",
       "      <td>0</td>\n",
       "      <td>1</td>\n",
       "      <td>0.901639</td>\n",
       "      <td>0.546693</td>\n",
       "      <td>0</td>\n",
       "      <td>1</td>\n",
       "    </tr>\n",
       "  </tbody>\n",
       "</table>\n",
       "<p>5 rows × 21 columns</p>\n",
       "</div>"
      ],
      "text/plain": [
       "   year        date  quali_pos  statusId  position         dob  \\\n",
       "0  2011  2011-03-27         18        11        18  1977-05-10   \n",
       "1  2010  2010-03-28          9         1         9  1984-12-07   \n",
       "2  2017  2017-03-26         11        11        12  1987-08-19   \n",
       "3  2018  2018-03-25          7         1         8  1987-08-19   \n",
       "4  2019  2019-03-17         11        11        11  1987-08-19   \n",
       "\n",
       "  driver_nationality constructor constructor_nationality  \\\n",
       "0                Ger   Alpine F1                     Fre   \n",
       "1                Pol   Alpine F1                     Fre   \n",
       "2                Ger   Alpine F1                     Fre   \n",
       "3                Ger   Alpine F1                     Fre   \n",
       "4                Ger   Alpine F1                     Fre   \n",
       "\n",
       "                          GP_name  ...           driver age_at_gp_in_days  \\\n",
       "0  Albert Park Grand Prix Circuit  ...    Nick Heidfeld             12374   \n",
       "1  Albert Park Grand Prix Circuit  ...    Robert Kubica              9242   \n",
       "2  Albert Park Grand Prix Circuit  ...  Nico Hülkenberg             10812   \n",
       "3  Albert Park Grand Prix Circuit  ...  Nico Hülkenberg             11176   \n",
       "4  Albert Park Grand Prix Circuit  ...  Nico Hülkenberg             11533   \n",
       "\n",
       "   driver_home  constructor_home  driver_dnf  constructor_dnf  \\\n",
       "0            0                 0           0                1   \n",
       "1            0                 0           0                0   \n",
       "2            0                 0           0                1   \n",
       "3            0                 0           0                0   \n",
       "4            0                 0           0                1   \n",
       "\n",
       "   driver_confidence  constructor_reliability  active_driver  \\\n",
       "0           0.800000                 0.546693              0   \n",
       "1           0.976190                 0.546693              0   \n",
       "2           0.901639                 0.546693              0   \n",
       "3           0.901639                 0.546693              0   \n",
       "4           0.901639                 0.546693              0   \n",
       "\n",
       "   active_constructor  \n",
       "0                   1  \n",
       "1                   1  \n",
       "2                   1  \n",
       "3                   1  \n",
       "4                   1  \n",
       "\n",
       "[5 rows x 21 columns]"
      ]
     },
     "execution_count": 12,
     "metadata": {},
     "output_type": "execute_result"
    }
   ],
   "source": [
    "data.head()"
   ]
  },
  {
   "cell_type": "code",
   "execution_count": 13,
   "metadata": {},
   "outputs": [
    {
     "data": {
      "text/plain": [
       "Index(['year', 'date', 'quali_pos', 'statusId', 'position', 'dob',\n",
       "       'driver_nationality', 'constructor', 'constructor_nationality',\n",
       "       'GP_name', 'country', 'driver', 'age_at_gp_in_days', 'driver_home',\n",
       "       'constructor_home', 'driver_dnf', 'constructor_dnf',\n",
       "       'driver_confidence', 'constructor_reliability', 'active_driver',\n",
       "       'active_constructor'],\n",
       "      dtype='object')"
      ]
     },
     "execution_count": 13,
     "metadata": {},
     "output_type": "execute_result"
    }
   ],
   "source": [
    "data.columns"
   ]
  },
  {
   "attachments": {},
   "cell_type": "markdown",
   "metadata": {},
   "source": [
    "## Directory to store Models"
   ]
  },
  {
   "cell_type": "code",
   "execution_count": 14,
   "metadata": {},
   "outputs": [],
   "source": [
    "import os\n",
    "if not os.path.exists('./models'):\n",
    "    os.mkdir('./models')"
   ]
  },
  {
   "cell_type": "code",
   "execution_count": 15,
   "metadata": {},
   "outputs": [],
   "source": [
    "def position_index(x):\n",
    "    if x<4:\n",
    "        return 1\n",
    "    if x>10:\n",
    "        return 3\n",
    "    else :\n",
    "        return 2"
   ]
  },
  {
   "attachments": {},
   "cell_type": "markdown",
   "metadata": {},
   "source": [
    "## Model considering only Drivers"
   ]
  },
  {
   "cell_type": "code",
   "execution_count": 16,
   "metadata": {},
   "outputs": [],
   "source": [
    "x_d= data[['GP_name','quali_pos','driver','age_at_gp_in_days','position','driver_confidence','active_driver']]"
   ]
  },
  {
   "cell_type": "code",
   "execution_count": 17,
   "metadata": {},
   "outputs": [],
   "source": [
    "x_d = x_d[x_d['active_driver']==1]"
   ]
  },
  {
   "cell_type": "code",
   "execution_count": 18,
   "metadata": {},
   "outputs": [],
   "source": [
    "sc  = StandardScaler()\n",
    "le = LabelEncoder()\n",
    "x_d['GP_name'] = le.fit_transform(x_d['GP_name'])\n",
    "x_d['driver'] = le.fit_transform(x_d['driver'])\n",
    "x_d['GP_name'] = le.fit_transform(x_d['GP_name'])\n",
    "x_d['age_at_gp_in_days'] = sc.fit_transform(x_d[['age_at_gp_in_days']])\n",
    "X_d = x_d.drop(['position','active_driver'],axis=1)\n",
    "y_d = x_d['position'].apply(lambda x: position_index(x))"
   ]
  },
  {
   "cell_type": "code",
   "execution_count": 19,
   "metadata": {},
   "outputs": [
    {
     "name": "stdout",
     "output_type": "stream",
     "text": [
      "LogisticRegression : 0.9165362318840581\n",
      "DecisionTreeClassifier : 0.8915111989459816\n",
      "RandomForestClassifier : 0.9292450592885375\n",
      "SVC : 0.9161725955204216\n",
      "GaussianNB : 0.8410830039525692\n",
      "KNeighborsClassifier : 0.891140974967062\n"
     ]
    }
   ],
   "source": [
    "#cross validation for diffrent models\n",
    "models = [LogisticRegression(),DecisionTreeClassifier(),RandomForestClassifier(),SVC(),GaussianNB(),KNeighborsClassifier()]\n",
    "names = ['LogisticRegression','DecisionTreeClassifier','RandomForestClassifier','SVC','GaussianNB','KNeighborsClassifier']\n",
    "model_dict = dict(zip(models,names))\n",
    "mean_results_dri = []\n",
    "results_dri = []\n",
    "name = []\n",
    "for model in models:\n",
    "    cv = StratifiedKFold(n_splits=10,random_state=1,shuffle=True)\n",
    "    result = cross_val_score(model,X_d,y_d,cv=cv,scoring='accuracy')\n",
    "    mean_results_dri.append(result.mean())\n",
    "    results_dri.append(result)\n",
    "    name.append(model_dict[model])\n",
    "    print(f'{model_dict[model]} : {result.mean()}')"
   ]
  },
  {
   "cell_type": "code",
   "execution_count": 20,
   "metadata": {},
   "outputs": [
    {
     "data": {
      "image/png": "[encoded data removed]",
      "text/plain": [
       "<Figure size 1500x1000 with 1 Axes>"
      ]
     },
     "metadata": {},
     "output_type": "display_data"
    }
   ],
   "source": [
    "plt.figure(figsize=(15,10))\n",
    "plt.boxplot(x=results_dri,labels=name)\n",
    "plt.xlabel('Models')\n",
    "plt.ylabel('Accuracy')\n",
    "plt.title('Model performance comparision (drivers only)')\n",
    "plt.show()"
   ]
  },
  {
   "attachments": {},
   "cell_type": "markdown",
   "metadata": {},
   "source": [
    "## Model considering only Constructors"
   ]
  },
  {
   "cell_type": "code",
   "execution_count": 21,
   "metadata": {},
   "outputs": [],
   "source": [
    "x_c = data[['GP_name','quali_pos','constructor','position','constructor_reliability','active_constructor']]"
   ]
  },
  {
   "cell_type": "code",
   "execution_count": 22,
   "metadata": {},
   "outputs": [],
   "source": [
    "x_c = x_c[x_c['active_constructor']==1]"
   ]
  },
  {
   "cell_type": "code",
   "execution_count": 23,
   "metadata": {},
   "outputs": [],
   "source": [
    "sc  = StandardScaler()\n",
    "le = LabelEncoder()\n",
    "x_c['GP_name'] = le.fit_transform(x_c['GP_name'])\n",
    "x_c['constructor'] = le.fit_transform(x_c['constructor'])\n",
    "X_c = x_c.drop(['position','active_constructor'],axis=1)\n",
    "y_c = x_c['position'].apply(lambda x: position_index(x))"
   ]
  },
  {
   "cell_type": "code",
   "execution_count": 24,
   "metadata": {},
   "outputs": [
    {
     "name": "stdout",
     "output_type": "stream",
     "text": [
      "LogisticRegression : 0.9198782961460447\n",
      "DecisionTreeClassifier : 0.9170385395537524\n",
      "RandomForestClassifier : 0.9314401622718054\n",
      "SVC : 0.9409736308316431\n",
      "GaussianNB : 0.8383367139959432\n",
      "KNeighborsClassifier : 0.9251521298174443\n"
     ]
    }
   ],
   "source": [
    "#cross validation for diffrent models\n",
    "models = [LogisticRegression(),DecisionTreeClassifier(),RandomForestClassifier(),SVC(),GaussianNB(),KNeighborsClassifier()]\n",
    "names = ['LogisticRegression','DecisionTreeClassifier','RandomForestClassifier','SVC','GaussianNB','KNeighborsClassifier']\n",
    "model_dict = dict(zip(models,names))\n",
    "mean_results_const = []\n",
    "results_const = []\n",
    "name = []\n",
    "for model in models:\n",
    "    cv = StratifiedKFold(n_splits=10,random_state=1,shuffle=True)\n",
    "    result = cross_val_score(model,X_c,y_c,cv=cv,scoring='accuracy')\n",
    "    mean_results_const.append(result.mean())\n",
    "    results_const.append(result)\n",
    "    name.append(model_dict[model])\n",
    "    print(f'{model_dict[model]} : {result.mean()}')"
   ]
  },
  {
   "cell_type": "code",
   "execution_count": 25,
   "metadata": {},
   "outputs": [
    {
     "data": {
      "image/png": "[encoded data removed]",
      "text/plain": [
       "<Figure size 1500x1000 with 1 Axes>"
      ]
     },
     "metadata": {},
     "output_type": "display_data"
    }
   ],
   "source": [
    "plt.figure(figsize=(15,10))\n",
    "plt.boxplot(x=results_const,labels=name)\n",
    "plt.xlabel('Models')\n",
    "plt.ylabel('Accuracy')\n",
    "plt.title('Model performance comparision (Teams only)')\n",
    "plt.show()"
   ]
  },
  {
   "attachments": {},
   "cell_type": "markdown",
   "metadata": {},
   "source": [
    "# Model considering both Drivers and Constructors"
   ]
  },
  {
   "cell_type": "code",
   "execution_count": 26,
   "metadata": {},
   "outputs": [],
   "source": [
    "cleaned_data = data[['GP_name','quali_pos','constructor','driver','position','driver_confidence','constructor_reliability','active_driver','active_constructor']]\n",
    "cleaned_data = cleaned_data[(cleaned_data['active_driver']==1)&(cleaned_data['active_constructor']==1)]\n",
    "cleaned_data.to_csv('./data_f1/cleaned_data.csv',index=False)"
   ]
  },
  {
   "attachments": {},
   "cell_type": "markdown",
   "metadata": {},
   "source": [
    "### Build your X dataset with next columns:\n",
    "- GP_name\n",
    "- quali_pos to predict the classification cluster (1,2,3) \n",
    "- constructor\n",
    "- driver\n",
    "- position\n",
    "- driver confidence\n",
    "- constructor_reliability\n",
    "- active_driver\n",
    "- active_constructor"
   ]
  },
  {
   "cell_type": "code",
   "execution_count": 27,
   "metadata": {},
   "outputs": [
    {
     "data": {
      "text/html": [
       "<div>\n",
       "<style scoped>\n",
       "    .dataframe tbody tr th:only-of-type {\n",
       "        vertical-align: middle;\n",
       "    }\n",
       "\n",
       "    .dataframe tbody tr th {\n",
       "        vertical-align: top;\n",
       "    }\n",
       "\n",
       "    .dataframe thead th {\n",
       "        text-align: right;\n",
       "    }\n",
       "</style>\n",
       "<table border=\"1\" class=\"dataframe\">\n",
       "  <thead>\n",
       "    <tr style=\"text-align: right;\">\n",
       "      <th></th>\n",
       "      <th>GP_name</th>\n",
       "      <th>quali_pos</th>\n",
       "      <th>constructor</th>\n",
       "      <th>driver</th>\n",
       "      <th>position</th>\n",
       "      <th>driver_confidence</th>\n",
       "      <th>constructor_reliability</th>\n",
       "      <th>active_driver</th>\n",
       "      <th>active_constructor</th>\n",
       "    </tr>\n",
       "  </thead>\n",
       "  <tbody>\n",
       "    <tr>\n",
       "      <th>0</th>\n",
       "      <td>Albert Park Grand Prix Circuit</td>\n",
       "      <td>12</td>\n",
       "      <td>Alpine F1</td>\n",
       "      <td>Daniel Ricciardo</td>\n",
       "      <td>12</td>\n",
       "      <td>0.952381</td>\n",
       "      <td>0.546693</td>\n",
       "      <td>1</td>\n",
       "      <td>1</td>\n",
       "    </tr>\n",
       "    <tr>\n",
       "      <th>1</th>\n",
       "      <td>Albert Park Grand Prix Circuit</td>\n",
       "      <td>9</td>\n",
       "      <td>Alpine F1</td>\n",
       "      <td>Carlos Sainz</td>\n",
       "      <td>9</td>\n",
       "      <td>0.901235</td>\n",
       "      <td>0.546693</td>\n",
       "      <td>1</td>\n",
       "      <td>1</td>\n",
       "    </tr>\n",
       "    <tr>\n",
       "      <th>2</th>\n",
       "      <td>Albert Park Grand Prix Circuit</td>\n",
       "      <td>16</td>\n",
       "      <td>Williams</td>\n",
       "      <td>Valtteri Bottas</td>\n",
       "      <td>16</td>\n",
       "      <td>0.950249</td>\n",
       "      <td>0.487427</td>\n",
       "      <td>1</td>\n",
       "      <td>1</td>\n",
       "    </tr>\n",
       "    <tr>\n",
       "      <th>3</th>\n",
       "      <td>Albert Park Grand Prix Circuit</td>\n",
       "      <td>15</td>\n",
       "      <td>Williams</td>\n",
       "      <td>Valtteri Bottas</td>\n",
       "      <td>10</td>\n",
       "      <td>0.950249</td>\n",
       "      <td>0.487427</td>\n",
       "      <td>1</td>\n",
       "      <td>1</td>\n",
       "    </tr>\n",
       "    <tr>\n",
       "      <th>4</th>\n",
       "      <td>Albert Park Grand Prix Circuit</td>\n",
       "      <td>0</td>\n",
       "      <td>Williams</td>\n",
       "      <td>Valtteri Bottas</td>\n",
       "      <td>6</td>\n",
       "      <td>0.950249</td>\n",
       "      <td>0.487427</td>\n",
       "      <td>1</td>\n",
       "      <td>1</td>\n",
       "    </tr>\n",
       "  </tbody>\n",
       "</table>\n",
       "</div>"
      ],
      "text/plain": [
       "                          GP_name  quali_pos constructor            driver  \\\n",
       "0  Albert Park Grand Prix Circuit         12   Alpine F1  Daniel Ricciardo   \n",
       "1  Albert Park Grand Prix Circuit          9   Alpine F1      Carlos Sainz   \n",
       "2  Albert Park Grand Prix Circuit         16    Williams   Valtteri Bottas   \n",
       "3  Albert Park Grand Prix Circuit         15    Williams   Valtteri Bottas   \n",
       "4  Albert Park Grand Prix Circuit          0    Williams   Valtteri Bottas   \n",
       "\n",
       "   position  driver_confidence  constructor_reliability  active_driver  \\\n",
       "0        12           0.952381                 0.546693              1   \n",
       "1         9           0.901235                 0.546693              1   \n",
       "2        16           0.950249                 0.487427              1   \n",
       "3        10           0.950249                 0.487427              1   \n",
       "4         6           0.950249                 0.487427              1   \n",
       "\n",
       "   active_constructor  \n",
       "0                   1  \n",
       "1                   1  \n",
       "2                   1  \n",
       "3                   1  \n",
       "4                   1  "
      ]
     },
     "execution_count": 27,
     "metadata": {},
     "output_type": "execute_result"
    }
   ],
   "source": [
    "cleaned_data = pd.read_csv('./data_f1/cleaned_data.csv')\n",
    "x_dc = cleaned_data[['GP_name','quali_pos','constructor','driver','position','driver_confidence','constructor_reliability','active_driver','active_constructor']]\n",
    "x_dc.head()"
   ]
  },
  {
   "attachments": {},
   "cell_type": "markdown",
   "metadata": {},
   "source": [
    "### Filter the dataset for this Model \"Driver + Constructor\" all active drivers and constructors"
   ]
  },
  {
   "cell_type": "code",
   "execution_count": 28,
   "metadata": {},
   "outputs": [],
   "source": [
    "x_dc = x_dc[(cleaned_data['active_driver']==1)&(cleaned_data['active_constructor']==1)]"
   ]
  },
  {
   "attachments": {},
   "cell_type": "markdown",
   "metadata": {
    "tags": []
   },
   "source": [
    "### Create Standard Scaler and Label Encoder for the different features in order to have a similar scale for all features"
   ]
  },
  {
   "cell_type": "code",
   "execution_count": 29,
   "metadata": {},
   "outputs": [],
   "source": [
    "sc  = StandardScaler()\n",
    "le = LabelEncoder()"
   ]
  },
  {
   "attachments": {},
   "cell_type": "markdown",
   "metadata": {},
   "source": [
    "### Prepare the X (Features dataset) and y for predicted value. \n",
    "In our case, we want to calculate the cluster of final position for ech driver using the \"position_index\" function"
   ]
  },
  {
   "cell_type": "code",
   "execution_count": 30,
   "metadata": {},
   "outputs": [],
   "source": [
    "# Implement X, y\n",
    "x_dc['GP_name'] = le.fit_transform(x_dc['GP_name'])\n",
    "x_dc['driver'] = le.fit_transform(x_dc['driver'])\n",
    "x_dc['constructor'] = le.fit_transform(x_dc['constructor'])\n",
    "X_dc = x_dc.drop(['position','active_constructor'],axis=1)\n",
    "y_dc = x_dc['position'].apply(lambda x: position_index(x))"
   ]
  },
  {
   "attachments": {},
   "cell_type": "markdown",
   "metadata": {},
   "source": [
    "### Applied the same list of ML Algorithms for cross validation of different models\n",
    "\n",
    "And Store the accuracy Mean Value in order to compare with previous ML Models"
   ]
  },
  {
   "cell_type": "code",
   "execution_count": 31,
   "metadata": {},
   "outputs": [],
   "source": [
    "mean_results = []\n",
    "results = []\n",
    "name = []"
   ]
  },
  {
   "cell_type": "code",
   "execution_count": 32,
   "metadata": {},
   "outputs": [
    {
     "name": "stdout",
     "output_type": "stream",
     "text": [
      "LogisticRegression : 0.9198782961460447\n",
      "DecisionTreeClassifier : 0.9180527383367141\n",
      "RandomForestClassifier : 0.9308316430020286\n",
      "SVC : 0.9409736308316431\n",
      "GaussianNB : 0.8383367139959432\n",
      "KNeighborsClassifier : 0.9251521298174443\n"
     ]
    }
   ],
   "source": [
    "# cross validation for different models\n",
    "models = [LogisticRegression(),DecisionTreeClassifier(),RandomForestClassifier(),SVC(),GaussianNB(),KNeighborsClassifier()]\n",
    "names = ['LogisticRegression','DecisionTreeClassifier','RandomForestClassifier','SVC','GaussianNB','KNeighborsClassifier']\n",
    "model_dict = dict(zip(models,names))\n",
    "for model in models:\n",
    "    cv = StratifiedKFold(n_splits=10,random_state=1,shuffle=True)\n",
    "    result = cross_val_score(model,X_c,y_c,cv=cv,scoring='accuracy')\n",
    "    mean_results.append(result.mean())\n",
    "    results.append(result)\n",
    "    name.append(model_dict[model])\n",
    "    print(f'{model_dict[model]} : {result.mean()}')"
   ]
  },
  {
   "attachments": {},
   "cell_type": "markdown",
   "metadata": {},
   "source": [
    "### Use the same boxplot plotter used in the previous Models"
   ]
  },
  {
   "cell_type": "code",
   "execution_count": 33,
   "metadata": {},
   "outputs": [
    {
     "data": {
      "image/png": "[encoded data removed]",
      "text/plain": [
       "<Figure size 1500x1000 with 1 Axes>"
      ]
     },
     "metadata": {},
     "output_type": "display_data"
    }
   ],
   "source": [
    "# Implement boxplot\n",
    "plt.figure(figsize=(15,10))\n",
    "plt.boxplot(x=results,labels=name)\n",
    "plt.xlabel('Models')\n",
    "plt.ylabel('Accuracy')\n",
    "plt.title('Model performance comparision (Teams only)')\n",
    "plt.show()"
   ]
  },
  {
   "attachments": {},
   "cell_type": "markdown",
   "metadata": {},
   "source": [
    "# Comparing The 3 ML Models\n",
    "\n",
    "Let's see mean score of our three assumptions."
   ]
  },
  {
   "cell_type": "code",
   "execution_count": 34,
   "metadata": {},
   "outputs": [
    {
     "data": {
      "image/png": "[encoded data removed]",
      "text/plain": [
       "<Figure size 3000x1500 with 1 Axes>"
      ]
     },
     "metadata": {},
     "output_type": "display_data"
    }
   ],
   "source": [
    "lr = [mean_results[0],mean_results_dri[0],mean_results_const[0]]\n",
    "dtc = [mean_results[1],mean_results_dri[1],mean_results_const[1]]\n",
    "rfc = [mean_results[2],mean_results_dri[2],mean_results_const[2]]\n",
    "svc = [mean_results[3],mean_results_dri[3],mean_results_const[3]]\n",
    "gnb = [mean_results[4],mean_results_dri[4],mean_results_const[4]]\n",
    "knn = [mean_results[5],mean_results_dri[5],mean_results_const[5]]\n",
    "font1 = {\n",
    "    'family':'serif',\n",
    "    'color':'black',\n",
    "    'weight':'normal',\n",
    "    'size':18\n",
    "}\n",
    "font2 = {\n",
    "    'family':'serif',\n",
    "    'color':'black',\n",
    "    'weight':'bold',\n",
    "    'size':12\n",
    "}\n",
    "x_ax = np.arange(3)\n",
    "plt.figure(figsize=(30,15))\n",
    "bar1 = plt.bar(x_ax,lr,width=0.1,align='center', label=\"Logistic Regression\")\n",
    "bar2 = plt.bar(x_ax+0.1,dtc,width=0.1,align='center', label=\"DecisionTree\")\n",
    "bar3 = plt.bar(x_ax+0.2,rfc,width=0.1,align='center',  label=\"RandomForest\")\n",
    "bar4 = plt.bar(x_ax+0.3,svc,width=0.1,align='center', label=\"SVC\")\n",
    "bar5 = plt.bar(x_ax+0.4,gnb,width=0.1,align='center', label=\"GaussianNB\")\n",
    "bar6 = plt.bar(x_ax+0.5,knn,width=0.1,align='center', label=\"KNN\")\n",
    "plt.text(0.05,1,'CV score for combined data',fontdict=font1)\n",
    "plt.text(1.04,1,'CV score only driver data',fontdict=font1)\n",
    "plt.text(2,1,'CV score only team data',fontdict=font1)\n",
    "for bar in bar1.patches:\n",
    "    yval = bar.get_height()\n",
    "    plt.text(bar.get_x()+0.01,yval+0.01,f'{round(yval*100,2)}%',fontdict=font2)\n",
    "for bar in bar2.patches:\n",
    "    yval = bar.get_height()\n",
    "    plt.text(bar.get_x()+0.01,yval+0.01,f'{round(yval*100,2)}%',fontdict=font2)\n",
    "for bar in bar3.patches:\n",
    "    yval = bar.get_height()\n",
    "    plt.text(bar.get_x()+0.01,yval+0.01,f'{round(yval*100,2)}%',fontdict=font2)\n",
    "for bar in bar4.patches:\n",
    "    yval = bar.get_height()\n",
    "    plt.text(bar.get_x()+0.01,yval+0.01,f'{round(yval*100,2)}%',fontdict=font2)\n",
    "for bar in bar5.patches:\n",
    "    yval = bar.get_height()\n",
    "    plt.text(bar.get_x()+0.01,yval+0.01,f'{round(yval*100,2)}%',fontdict=font2)\n",
    "for bar in bar6.patches:\n",
    "    yval = bar.get_height()\n",
    "    plt.text(bar.get_x()+0.01,yval+0.01,f'{round(yval*100,2)}%',fontdict=font2)\n",
    "plt.legend(loc='center', bbox_to_anchor=(0.5, -0.10), shadow=False, ncol=6)\n",
    "\n",
    "plt.show()"
   ]
  },
  {
   "cell_type": "code",
   "execution_count": 35,
   "metadata": {},
   "outputs": [],
   "source": [
    "end = time.time()"
   ]
  },
  {
   "cell_type": "code",
   "execution_count": 36,
   "metadata": {},
   "outputs": [
    {
     "data": {
      "text/plain": [
       "'0:00:24.842396'"
      ]
     },
     "execution_count": 36,
     "metadata": {},
     "output_type": "execute_result"
    }
   ],
   "source": [
    "import datetime\n",
    "str(datetime.timedelta(seconds=(end - start)))"
   ]
  },
  {
   "cell_type": "code",
   "execution_count": 37,
   "metadata": {},
   "outputs": [
    {
     "name": "stdout",
     "output_type": "stream",
     "text": [
      "24.842395544052124 seconds\n"
     ]
    }
   ],
   "source": [
    "print(str(end - start)+\" seconds\")"
   ]
  }
 ],
 "metadata": {
  "kernelspec": {
   "display_name": "Python 3",
   "language": "python",
   "name": "python3"
  },
  "language_info": {
   "codemirror_mode": {
    "name": "ipython",
    "version": 3
   },
   "file_extension": ".py",
   "mimetype": "text/x-python",
   "name": "python",
   "nbconvert_exporter": "python",
   "pygments_lexer": "ipython3",
   "version": "3.11.2"
  },
  "toc": {
   "base_numbering": 1,
   "nav_menu": {},
   "number_sections": true,
   "sideBar": true,
   "skip_h1_title": false,
   "title_cell": "Table of Contents",
   "title_sidebar": "Contents",
   "toc_cell": false,
   "toc_position": {},
   "toc_section_display": true,
   "toc_window_display": false
  },
  "varInspector": {
   "cols": {
    "lenName": 16,
    "lenType": 16,
    "lenVar": 40
   },
   "kernels_config": {
    "python": {
     "delete_cmd_postfix": "",
     "delete_cmd_prefix": "del ",
     "library": "var_list.py",
     "varRefreshCmd": "print(var_dic_list())"
    },
    "r": {
     "delete_cmd_postfix": ") ",
     "delete_cmd_prefix": "rm(",
     "library": "var_list.r",
     "varRefreshCmd": "cat(var_dic_list()) "
    }
   },
   "types_to_exclude": [
    "module",
    "function",
    "builtin_function_or_method",
    "instance",
    "_Feature"
   ],
   "window_display": false
  }
 },
 "nbformat": 4,
 "nbformat_minor": 4
}
